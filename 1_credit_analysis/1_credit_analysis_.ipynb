{
 "cells": [
  {
   "cell_type": "markdown",
   "id": "386f2ae7",
   "metadata": {
    "deletable": false,
    "editable": false,
    "id": "386f2ae7"
   },
   "source": [
    "# Исследование надежности заемщиков\n"
   ]
  },
  {
   "cell_type": "markdown",
   "id": "ffe86f65",
   "metadata": {
    "deletable": false,
    "editable": false,
    "id": "ffe86f65"
   },
   "source": [
    "Во второй части проекта вы выполните шаги 3 и 4. Их вручную проверит ревьюер.\n",
    "Чтобы вам не пришлось писать код заново для шагов 1 и 2, мы добавили авторские решения в ячейки с кодом. \n",
    "\n"
   ]
  },
  {
   "cell_type": "markdown",
   "id": "890d2490",
   "metadata": {},
   "source": [
    "**Описание проекта**  \n",
    "<i>Заказчик</i> — кредитный отдел банка. Нужно разобраться, влияет ли семейное положение и количество детей клиента на факт погашения кредита в срок. Входные данные от банка — статистика о платёжеспособности клиентов.\n",
    "Результаты исследования будут учтены при построении модели кредитного скоринга — специальной системы, которая оценивает    способность потенциального заёмщика вернуть кредит банку.<br>\n",
    "  \n",
    "<b>Описание данных:</b><br>\n",
    "`children` — количество детей в семье  \n",
    "`days_employed` — общий трудовой стаж в днях  \n",
    "`dob_years` — возраст клиента в годах  \n",
    "`education` — уровень образования клиента  \n",
    "`education_id` — идентификатор уровня образования  \n",
    "`family_status` — семейное положение  \n",
    "`family_status_id` — идентификатор семейного положения  \n",
    "`gender` — пол клиента  \n",
    "`income_type` — тип занятости  \n",
    "`debt` — имел ли задолженность по возврату кредитов  \n",
    "`total_income` — ежемесячный доход  \n",
    "`purpose` — цель получения кредита"
   ]
  },
  {
   "cell_type": "markdown",
   "id": "26613308",
   "metadata": {
    "deletable": false,
    "editable": false,
    "id": "26613308"
   },
   "source": [
    "## Откройте таблицу и изучите общую информацию о данных"
   ]
  },
  {
   "cell_type": "markdown",
   "id": "3c9f838e",
   "metadata": {
    "tags": []
   },
   "source": [
    "**Задание 1. Импортируйте библиотеку pandas. Считайте данные из csv-файла в датафрейм и сохраните в переменную `data`. Путь к файлу:**\n",
    "\n",
    "`/.../data.csv`"
   ]
  },
  {
   "cell_type": "code",
   "execution_count": 1,
   "id": "5d0855da",
   "metadata": {},
   "outputs": [],
   "source": [
    "#импортируем библиотеку 'pandas' для выполнения расчетов\n",
    "import pandas as pd\n",
    "\n",
    "#импортируем 'seaborn' и 'numpy' для визуализации \n",
    "import seaborn as sb\n",
    "\n",
    "import numpy as np"
   ]
  },
  {
   "cell_type": "code",
   "execution_count": 42,
   "id": "77a68a90",
   "metadata": {
    "deletable": false,
    "id": "77a68a90"
   },
   "outputs": [],
   "source": [
    "try:\n",
    "    data = pd.read_csv('D:/DA/Yandex_Praktikum/Projects/1_credit_anaisys/data.csv')\n",
    "except:\n",
    "    data = pd.read_csv('https://.../data.csv')"
   ]
  },
  {
   "cell_type": "markdown",
   "id": "45365635",
   "metadata": {
    "deletable": false,
    "editable": false,
    "id": "45365635"
   },
   "source": [
    "**Задание 2. Выведите первые 20 строчек датафрейма `data` на экран.**"
   ]
  },
  {
   "cell_type": "code",
   "execution_count": 43,
   "id": "b0451a9a",
   "metadata": {
    "deletable": false,
    "id": "b0451a9a",
    "outputId": "1a8f3ef2-d323-4ec2-ddf7-89670b5944c4"
   },
   "outputs": [
    {
     "data": {
      "text/html": [
       "<div>\n",
       "<style scoped>\n",
       "    .dataframe tbody tr th:only-of-type {\n",
       "        vertical-align: middle;\n",
       "    }\n",
       "\n",
       "    .dataframe tbody tr th {\n",
       "        vertical-align: top;\n",
       "    }\n",
       "\n",
       "    .dataframe thead th {\n",
       "        text-align: right;\n",
       "    }\n",
       "</style>\n",
       "<table border=\"1\" class=\"dataframe\">\n",
       "  <thead>\n",
       "    <tr style=\"text-align: right;\">\n",
       "      <th></th>\n",
       "      <th>children</th>\n",
       "      <th>days_employed</th>\n",
       "      <th>dob_years</th>\n",
       "      <th>education</th>\n",
       "      <th>education_id</th>\n",
       "      <th>family_status</th>\n",
       "      <th>family_status_id</th>\n",
       "      <th>gender</th>\n",
       "      <th>income_type</th>\n",
       "      <th>debt</th>\n",
       "      <th>total_income</th>\n",
       "      <th>purpose</th>\n",
       "    </tr>\n",
       "  </thead>\n",
       "  <tbody>\n",
       "    <tr>\n",
       "      <th>0</th>\n",
       "      <td>1</td>\n",
       "      <td>-8437.673028</td>\n",
       "      <td>42</td>\n",
       "      <td>высшее</td>\n",
       "      <td>0</td>\n",
       "      <td>женат / замужем</td>\n",
       "      <td>0</td>\n",
       "      <td>F</td>\n",
       "      <td>сотрудник</td>\n",
       "      <td>0</td>\n",
       "      <td>253875.639453</td>\n",
       "      <td>покупка жилья</td>\n",
       "    </tr>\n",
       "    <tr>\n",
       "      <th>1</th>\n",
       "      <td>1</td>\n",
       "      <td>-4024.803754</td>\n",
       "      <td>36</td>\n",
       "      <td>среднее</td>\n",
       "      <td>1</td>\n",
       "      <td>женат / замужем</td>\n",
       "      <td>0</td>\n",
       "      <td>F</td>\n",
       "      <td>сотрудник</td>\n",
       "      <td>0</td>\n",
       "      <td>112080.014102</td>\n",
       "      <td>приобретение автомобиля</td>\n",
       "    </tr>\n",
       "    <tr>\n",
       "      <th>2</th>\n",
       "      <td>0</td>\n",
       "      <td>-5623.422610</td>\n",
       "      <td>33</td>\n",
       "      <td>Среднее</td>\n",
       "      <td>1</td>\n",
       "      <td>женат / замужем</td>\n",
       "      <td>0</td>\n",
       "      <td>M</td>\n",
       "      <td>сотрудник</td>\n",
       "      <td>0</td>\n",
       "      <td>145885.952297</td>\n",
       "      <td>покупка жилья</td>\n",
       "    </tr>\n",
       "    <tr>\n",
       "      <th>3</th>\n",
       "      <td>3</td>\n",
       "      <td>-4124.747207</td>\n",
       "      <td>32</td>\n",
       "      <td>среднее</td>\n",
       "      <td>1</td>\n",
       "      <td>женат / замужем</td>\n",
       "      <td>0</td>\n",
       "      <td>M</td>\n",
       "      <td>сотрудник</td>\n",
       "      <td>0</td>\n",
       "      <td>267628.550329</td>\n",
       "      <td>дополнительное образование</td>\n",
       "    </tr>\n",
       "    <tr>\n",
       "      <th>4</th>\n",
       "      <td>0</td>\n",
       "      <td>340266.072047</td>\n",
       "      <td>53</td>\n",
       "      <td>среднее</td>\n",
       "      <td>1</td>\n",
       "      <td>гражданский брак</td>\n",
       "      <td>1</td>\n",
       "      <td>F</td>\n",
       "      <td>пенсионер</td>\n",
       "      <td>0</td>\n",
       "      <td>158616.077870</td>\n",
       "      <td>сыграть свадьбу</td>\n",
       "    </tr>\n",
       "    <tr>\n",
       "      <th>5</th>\n",
       "      <td>0</td>\n",
       "      <td>-926.185831</td>\n",
       "      <td>27</td>\n",
       "      <td>высшее</td>\n",
       "      <td>0</td>\n",
       "      <td>гражданский брак</td>\n",
       "      <td>1</td>\n",
       "      <td>M</td>\n",
       "      <td>компаньон</td>\n",
       "      <td>0</td>\n",
       "      <td>255763.565419</td>\n",
       "      <td>покупка жилья</td>\n",
       "    </tr>\n",
       "    <tr>\n",
       "      <th>6</th>\n",
       "      <td>0</td>\n",
       "      <td>-2879.202052</td>\n",
       "      <td>43</td>\n",
       "      <td>высшее</td>\n",
       "      <td>0</td>\n",
       "      <td>женат / замужем</td>\n",
       "      <td>0</td>\n",
       "      <td>F</td>\n",
       "      <td>компаньон</td>\n",
       "      <td>0</td>\n",
       "      <td>240525.971920</td>\n",
       "      <td>операции с жильем</td>\n",
       "    </tr>\n",
       "    <tr>\n",
       "      <th>7</th>\n",
       "      <td>0</td>\n",
       "      <td>-152.779569</td>\n",
       "      <td>50</td>\n",
       "      <td>СРЕДНЕЕ</td>\n",
       "      <td>1</td>\n",
       "      <td>женат / замужем</td>\n",
       "      <td>0</td>\n",
       "      <td>M</td>\n",
       "      <td>сотрудник</td>\n",
       "      <td>0</td>\n",
       "      <td>135823.934197</td>\n",
       "      <td>образование</td>\n",
       "    </tr>\n",
       "    <tr>\n",
       "      <th>8</th>\n",
       "      <td>2</td>\n",
       "      <td>-6929.865299</td>\n",
       "      <td>35</td>\n",
       "      <td>ВЫСШЕЕ</td>\n",
       "      <td>0</td>\n",
       "      <td>гражданский брак</td>\n",
       "      <td>1</td>\n",
       "      <td>F</td>\n",
       "      <td>сотрудник</td>\n",
       "      <td>0</td>\n",
       "      <td>95856.832424</td>\n",
       "      <td>на проведение свадьбы</td>\n",
       "    </tr>\n",
       "    <tr>\n",
       "      <th>9</th>\n",
       "      <td>0</td>\n",
       "      <td>-2188.756445</td>\n",
       "      <td>41</td>\n",
       "      <td>среднее</td>\n",
       "      <td>1</td>\n",
       "      <td>женат / замужем</td>\n",
       "      <td>0</td>\n",
       "      <td>M</td>\n",
       "      <td>сотрудник</td>\n",
       "      <td>0</td>\n",
       "      <td>144425.938277</td>\n",
       "      <td>покупка жилья для семьи</td>\n",
       "    </tr>\n",
       "    <tr>\n",
       "      <th>10</th>\n",
       "      <td>2</td>\n",
       "      <td>-4171.483647</td>\n",
       "      <td>36</td>\n",
       "      <td>высшее</td>\n",
       "      <td>0</td>\n",
       "      <td>женат / замужем</td>\n",
       "      <td>0</td>\n",
       "      <td>M</td>\n",
       "      <td>компаньон</td>\n",
       "      <td>0</td>\n",
       "      <td>113943.491460</td>\n",
       "      <td>покупка недвижимости</td>\n",
       "    </tr>\n",
       "    <tr>\n",
       "      <th>11</th>\n",
       "      <td>0</td>\n",
       "      <td>-792.701887</td>\n",
       "      <td>40</td>\n",
       "      <td>среднее</td>\n",
       "      <td>1</td>\n",
       "      <td>женат / замужем</td>\n",
       "      <td>0</td>\n",
       "      <td>F</td>\n",
       "      <td>сотрудник</td>\n",
       "      <td>0</td>\n",
       "      <td>77069.234271</td>\n",
       "      <td>покупка коммерческой недвижимости</td>\n",
       "    </tr>\n",
       "    <tr>\n",
       "      <th>12</th>\n",
       "      <td>0</td>\n",
       "      <td>NaN</td>\n",
       "      <td>65</td>\n",
       "      <td>среднее</td>\n",
       "      <td>1</td>\n",
       "      <td>гражданский брак</td>\n",
       "      <td>1</td>\n",
       "      <td>M</td>\n",
       "      <td>пенсионер</td>\n",
       "      <td>0</td>\n",
       "      <td>NaN</td>\n",
       "      <td>сыграть свадьбу</td>\n",
       "    </tr>\n",
       "    <tr>\n",
       "      <th>13</th>\n",
       "      <td>0</td>\n",
       "      <td>-1846.641941</td>\n",
       "      <td>54</td>\n",
       "      <td>неоконченное высшее</td>\n",
       "      <td>2</td>\n",
       "      <td>женат / замужем</td>\n",
       "      <td>0</td>\n",
       "      <td>F</td>\n",
       "      <td>сотрудник</td>\n",
       "      <td>0</td>\n",
       "      <td>130458.228857</td>\n",
       "      <td>приобретение автомобиля</td>\n",
       "    </tr>\n",
       "    <tr>\n",
       "      <th>14</th>\n",
       "      <td>0</td>\n",
       "      <td>-1844.956182</td>\n",
       "      <td>56</td>\n",
       "      <td>высшее</td>\n",
       "      <td>0</td>\n",
       "      <td>гражданский брак</td>\n",
       "      <td>1</td>\n",
       "      <td>F</td>\n",
       "      <td>компаньон</td>\n",
       "      <td>1</td>\n",
       "      <td>165127.911772</td>\n",
       "      <td>покупка жилой недвижимости</td>\n",
       "    </tr>\n",
       "    <tr>\n",
       "      <th>15</th>\n",
       "      <td>1</td>\n",
       "      <td>-972.364419</td>\n",
       "      <td>26</td>\n",
       "      <td>среднее</td>\n",
       "      <td>1</td>\n",
       "      <td>женат / замужем</td>\n",
       "      <td>0</td>\n",
       "      <td>F</td>\n",
       "      <td>сотрудник</td>\n",
       "      <td>0</td>\n",
       "      <td>116820.904450</td>\n",
       "      <td>строительство собственной недвижимости</td>\n",
       "    </tr>\n",
       "    <tr>\n",
       "      <th>16</th>\n",
       "      <td>0</td>\n",
       "      <td>-1719.934226</td>\n",
       "      <td>35</td>\n",
       "      <td>среднее</td>\n",
       "      <td>1</td>\n",
       "      <td>женат / замужем</td>\n",
       "      <td>0</td>\n",
       "      <td>F</td>\n",
       "      <td>сотрудник</td>\n",
       "      <td>0</td>\n",
       "      <td>289202.704229</td>\n",
       "      <td>недвижимость</td>\n",
       "    </tr>\n",
       "    <tr>\n",
       "      <th>17</th>\n",
       "      <td>0</td>\n",
       "      <td>-2369.999720</td>\n",
       "      <td>33</td>\n",
       "      <td>высшее</td>\n",
       "      <td>0</td>\n",
       "      <td>гражданский брак</td>\n",
       "      <td>1</td>\n",
       "      <td>M</td>\n",
       "      <td>сотрудник</td>\n",
       "      <td>0</td>\n",
       "      <td>90410.586745</td>\n",
       "      <td>строительство недвижимости</td>\n",
       "    </tr>\n",
       "    <tr>\n",
       "      <th>18</th>\n",
       "      <td>0</td>\n",
       "      <td>400281.136913</td>\n",
       "      <td>53</td>\n",
       "      <td>среднее</td>\n",
       "      <td>1</td>\n",
       "      <td>вдовец / вдова</td>\n",
       "      <td>2</td>\n",
       "      <td>F</td>\n",
       "      <td>пенсионер</td>\n",
       "      <td>0</td>\n",
       "      <td>56823.777243</td>\n",
       "      <td>на покупку подержанного автомобиля</td>\n",
       "    </tr>\n",
       "    <tr>\n",
       "      <th>19</th>\n",
       "      <td>0</td>\n",
       "      <td>-10038.818549</td>\n",
       "      <td>48</td>\n",
       "      <td>СРЕДНЕЕ</td>\n",
       "      <td>1</td>\n",
       "      <td>в разводе</td>\n",
       "      <td>3</td>\n",
       "      <td>F</td>\n",
       "      <td>сотрудник</td>\n",
       "      <td>0</td>\n",
       "      <td>242831.107982</td>\n",
       "      <td>на покупку своего автомобиля</td>\n",
       "    </tr>\n",
       "  </tbody>\n",
       "</table>\n",
       "</div>"
      ],
      "text/plain": [
       "    children  days_employed  dob_years            education  education_id  \\\n",
       "0          1   -8437.673028         42               высшее             0   \n",
       "1          1   -4024.803754         36              среднее             1   \n",
       "2          0   -5623.422610         33              Среднее             1   \n",
       "3          3   -4124.747207         32              среднее             1   \n",
       "4          0  340266.072047         53              среднее             1   \n",
       "5          0    -926.185831         27               высшее             0   \n",
       "6          0   -2879.202052         43               высшее             0   \n",
       "7          0    -152.779569         50              СРЕДНЕЕ             1   \n",
       "8          2   -6929.865299         35               ВЫСШЕЕ             0   \n",
       "9          0   -2188.756445         41              среднее             1   \n",
       "10         2   -4171.483647         36               высшее             0   \n",
       "11         0    -792.701887         40              среднее             1   \n",
       "12         0            NaN         65              среднее             1   \n",
       "13         0   -1846.641941         54  неоконченное высшее             2   \n",
       "14         0   -1844.956182         56               высшее             0   \n",
       "15         1    -972.364419         26              среднее             1   \n",
       "16         0   -1719.934226         35              среднее             1   \n",
       "17         0   -2369.999720         33               высшее             0   \n",
       "18         0  400281.136913         53              среднее             1   \n",
       "19         0  -10038.818549         48              СРЕДНЕЕ             1   \n",
       "\n",
       "       family_status  family_status_id gender income_type  debt  \\\n",
       "0    женат / замужем                 0      F   сотрудник     0   \n",
       "1    женат / замужем                 0      F   сотрудник     0   \n",
       "2    женат / замужем                 0      M   сотрудник     0   \n",
       "3    женат / замужем                 0      M   сотрудник     0   \n",
       "4   гражданский брак                 1      F   пенсионер     0   \n",
       "5   гражданский брак                 1      M   компаньон     0   \n",
       "6    женат / замужем                 0      F   компаньон     0   \n",
       "7    женат / замужем                 0      M   сотрудник     0   \n",
       "8   гражданский брак                 1      F   сотрудник     0   \n",
       "9    женат / замужем                 0      M   сотрудник     0   \n",
       "10   женат / замужем                 0      M   компаньон     0   \n",
       "11   женат / замужем                 0      F   сотрудник     0   \n",
       "12  гражданский брак                 1      M   пенсионер     0   \n",
       "13   женат / замужем                 0      F   сотрудник     0   \n",
       "14  гражданский брак                 1      F   компаньон     1   \n",
       "15   женат / замужем                 0      F   сотрудник     0   \n",
       "16   женат / замужем                 0      F   сотрудник     0   \n",
       "17  гражданский брак                 1      M   сотрудник     0   \n",
       "18    вдовец / вдова                 2      F   пенсионер     0   \n",
       "19         в разводе                 3      F   сотрудник     0   \n",
       "\n",
       "     total_income                                 purpose  \n",
       "0   253875.639453                           покупка жилья  \n",
       "1   112080.014102                 приобретение автомобиля  \n",
       "2   145885.952297                           покупка жилья  \n",
       "3   267628.550329              дополнительное образование  \n",
       "4   158616.077870                         сыграть свадьбу  \n",
       "5   255763.565419                           покупка жилья  \n",
       "6   240525.971920                       операции с жильем  \n",
       "7   135823.934197                             образование  \n",
       "8    95856.832424                   на проведение свадьбы  \n",
       "9   144425.938277                 покупка жилья для семьи  \n",
       "10  113943.491460                    покупка недвижимости  \n",
       "11   77069.234271       покупка коммерческой недвижимости  \n",
       "12            NaN                         сыграть свадьбу  \n",
       "13  130458.228857                 приобретение автомобиля  \n",
       "14  165127.911772              покупка жилой недвижимости  \n",
       "15  116820.904450  строительство собственной недвижимости  \n",
       "16  289202.704229                            недвижимость  \n",
       "17   90410.586745              строительство недвижимости  \n",
       "18   56823.777243      на покупку подержанного автомобиля  \n",
       "19  242831.107982            на покупку своего автомобиля  "
      ]
     },
     "execution_count": 43,
     "metadata": {},
     "output_type": "execute_result"
    }
   ],
   "source": [
    "data.head(20)"
   ]
  },
  {
   "cell_type": "markdown",
   "id": "0ed8f27f",
   "metadata": {
    "deletable": false,
    "editable": false,
    "id": "0ed8f27f"
   },
   "source": [
    "**Задание 3. Выведите основную информацию о датафрейме с помощью метода `info()`.**"
   ]
  },
  {
   "cell_type": "code",
   "execution_count": null,
   "id": "ab3f863b",
   "metadata": {
    "deletable": false,
    "id": "ab3f863b",
    "outputId": "15376089-8dad-46c9-b520-c05248d43158"
   },
   "outputs": [
    {
     "name": "stdout",
     "output_type": "stream",
     "text": [
      "<class 'pandas.core.frame.DataFrame'>\n",
      "RangeIndex: 21525 entries, 0 to 21524\n",
      "Data columns (total 12 columns):\n",
      " #   Column            Non-Null Count  Dtype  \n",
      "---  ------            --------------  -----  \n",
      " 0   children          21525 non-null  int64  \n",
      " 1   days_employed     19351 non-null  float64\n",
      " 2   dob_years         21525 non-null  int64  \n",
      " 3   education         21525 non-null  object \n",
      " 4   education_id      21525 non-null  int64  \n",
      " 5   family_status     21525 non-null  object \n",
      " 6   family_status_id  21525 non-null  int64  \n",
      " 7   gender            21525 non-null  object \n",
      " 8   income_type       21525 non-null  object \n",
      " 9   debt              21525 non-null  int64  \n",
      " 10  total_income      19351 non-null  float64\n",
      " 11  purpose           21525 non-null  object \n",
      "dtypes: float64(2), int64(5), object(5)\n",
      "memory usage: 2.0+ MB\n"
     ]
    }
   ],
   "source": [
    "data.info()"
   ]
  },
  {
   "cell_type": "markdown",
   "id": "60e3e22d",
   "metadata": {
    "deletable": false,
    "editable": false,
    "id": "60e3e22d"
   },
   "source": [
    "## Предобработка данных"
   ]
  },
  {
   "cell_type": "markdown",
   "id": "03dc170c",
   "metadata": {
    "deletable": false,
    "editable": false,
    "id": "03dc170c"
   },
   "source": [
    "### Удаление пропусков"
   ]
  },
  {
   "cell_type": "markdown",
   "id": "a4f54eef",
   "metadata": {
    "deletable": false,
    "editable": false,
    "id": "a4f54eef"
   },
   "source": [
    "**Задание 4. Выведите количество пропущенных значений для каждого столбца. Используйте комбинацию двух методов.**"
   ]
  },
  {
   "cell_type": "code",
   "execution_count": null,
   "id": "2dc372b2",
   "metadata": {
    "deletable": false,
    "id": "2dc372b2",
    "outputId": "81f4d817-781c-465c-ed15-91ce4446810d",
    "scrolled": true
   },
   "outputs": [
    {
     "data": {
      "text/plain": [
       "children               0\n",
       "days_employed       2174\n",
       "dob_years              0\n",
       "education              0\n",
       "education_id           0\n",
       "family_status          0\n",
       "family_status_id       0\n",
       "gender                 0\n",
       "income_type            0\n",
       "debt                   0\n",
       "total_income        2174\n",
       "purpose                0\n",
       "dtype: int64"
      ]
     },
     "execution_count": 5,
     "metadata": {},
     "output_type": "execute_result"
    }
   ],
   "source": [
    "data.isna().sum()"
   ]
  },
  {
   "cell_type": "code",
   "execution_count": null,
   "id": "213c0602",
   "metadata": {},
   "outputs": [
    {
     "data": {
      "text/plain": [
       "children             0.000000\n",
       "days_employed       10.099884\n",
       "dob_years            0.000000\n",
       "education            0.000000\n",
       "education_id         0.000000\n",
       "family_status        0.000000\n",
       "family_status_id     0.000000\n",
       "gender               0.000000\n",
       "income_type          0.000000\n",
       "debt                 0.000000\n",
       "total_income        10.099884\n",
       "purpose              0.000000\n",
       "dtype: float64"
      ]
     },
     "execution_count": 6,
     "metadata": {},
     "output_type": "execute_result"
    }
   ],
   "source": [
    "data.isna().mean()*100"
   ]
  },
  {
   "cell_type": "markdown",
   "id": "14f011b1",
   "metadata": {
    "deletable": false,
    "editable": false,
    "id": "14f011b1"
   },
   "source": [
    "**Задание 5. В двух столбцах есть пропущенные значения. Один из них — `days_employed`. Пропуски в этом столбце вы обработаете на следующем этапе. Другой столбец с пропущенными значениями — `total_income` — хранит данные о доходах. На сумму дохода сильнее всего влияет тип занятости, поэтому заполнить пропуски в этом столбце нужно медианным значением по каждому типу из столбца `income_type`. Например, у человека с типом занятости `сотрудник` пропуск в столбце `total_income` должен быть заполнен медианным доходом среди всех записей с тем же типом.**"
   ]
  },
  {
   "cell_type": "code",
   "execution_count": null,
   "id": "bdabfb6e",
   "metadata": {
    "deletable": false,
    "id": "bdabfb6e"
   },
   "outputs": [],
   "source": [
    "for t in data['income_type'].unique():\n",
    "    data.loc[(data['income_type'] == t) & (data['total_income'].isna()), 'total_income'] = \\\n",
    "    data.loc[(data['income_type'] == t), 'total_income'].median()"
   ]
  },
  {
   "cell_type": "markdown",
   "id": "5be34059",
   "metadata": {
    "deletable": false,
    "editable": false,
    "id": "5be34059"
   },
   "source": [
    "### Обработка аномальных значений"
   ]
  },
  {
   "cell_type": "markdown",
   "id": "a87606cb",
   "metadata": {
    "deletable": false,
    "editable": false,
    "id": "a87606cb"
   },
   "source": [
    "**Задание 6. В данных могут встречаться артефакты (аномалии) — значения, которые не отражают действительность и появились по какой-то ошибке. таким артефактом будет отрицательное количество дней трудового стажа в столбце `days_employed`. Для реальных данных это нормально. Обработайте значения в этом столбце: замените все отрицательные значения положительными с помощью метода `abs()`.**"
   ]
  },
  {
   "cell_type": "code",
   "execution_count": null,
   "id": "020c46cc",
   "metadata": {
    "deletable": false,
    "id": "020c46cc"
   },
   "outputs": [],
   "source": [
    "data['days_employed'] = data['days_employed'].abs()"
   ]
  },
  {
   "cell_type": "markdown",
   "id": "45538a3a",
   "metadata": {
    "deletable": false,
    "editable": false,
    "id": "45538a3a"
   },
   "source": [
    "**Задание 7. Для каждого типа занятости выведите медианное значение трудового стажа `days_employed` в днях.**"
   ]
  },
  {
   "cell_type": "code",
   "execution_count": null,
   "id": "cd3e6328",
   "metadata": {
    "deletable": false,
    "id": "cd3e6328",
    "outputId": "801ef80e-522b-4668-f34e-565af7432bcf"
   },
   "outputs": [
    {
     "data": {
      "text/plain": [
       "income_type\n",
       "безработный        366413.652744\n",
       "в декрете            3296.759962\n",
       "госслужащий          2689.368353\n",
       "компаньон            1547.382223\n",
       "пенсионер          365213.306266\n",
       "предприниматель       520.848083\n",
       "сотрудник            1574.202821\n",
       "студент               578.751554\n",
       "Name: days_employed, dtype: float64"
      ]
     },
     "execution_count": 9,
     "metadata": {},
     "output_type": "execute_result"
    }
   ],
   "source": [
    "data.groupby('income_type')['days_employed'].agg('median')"
   ]
  },
  {
   "cell_type": "markdown",
   "id": "90c5f058",
   "metadata": {
    "deletable": false,
    "editable": false,
    "id": "90c5f058"
   },
   "source": [
    "У двух типов (безработные и пенсионеры) получатся аномально большие значения. Исправить такие значения сложно, поэтому оставьте их как есть."
   ]
  },
  {
   "cell_type": "markdown",
   "id": "9652e50d",
   "metadata": {
    "deletable": false,
    "editable": false,
    "id": "9652e50d"
   },
   "source": [
    "**Задание 8. Выведите перечень уникальных значений столбца `children`.**"
   ]
  },
  {
   "cell_type": "code",
   "execution_count": null,
   "id": "dbb37b8e",
   "metadata": {
    "deletable": false,
    "id": "dbb37b8e",
    "outputId": "6975b15c-7f95-4697-d16d-a0c79b657b03"
   },
   "outputs": [
    {
     "data": {
      "text/plain": [
       "array([ 1,  0,  3,  2, -1,  4, 20,  5], dtype=int64)"
      ]
     },
     "execution_count": 10,
     "metadata": {},
     "output_type": "execute_result"
    }
   ],
   "source": [
    "data['children'].unique()"
   ]
  },
  {
   "cell_type": "markdown",
   "id": "2b8b0715",
   "metadata": {
    "deletable": false,
    "editable": false,
    "id": "2b8b0715"
   },
   "source": [
    "**Задание 9. В столбце `children` есть два аномальных значения. Удалите строки, в которых встречаются такие аномальные значения из датафрейма `data`.**"
   ]
  },
  {
   "cell_type": "code",
   "execution_count": null,
   "id": "20009df8",
   "metadata": {
    "deletable": false,
    "id": "20009df8"
   },
   "outputs": [],
   "source": [
    "data = data[(data['children'] != -1) & (data['children'] != 20)]"
   ]
  },
  {
   "cell_type": "code",
   "execution_count": null,
   "id": "642a5d12",
   "metadata": {},
   "outputs": [
    {
     "data": {
      "text/html": [
       "<div>\n",
       "<style scoped>\n",
       "    .dataframe tbody tr th:only-of-type {\n",
       "        vertical-align: middle;\n",
       "    }\n",
       "\n",
       "    .dataframe tbody tr th {\n",
       "        vertical-align: top;\n",
       "    }\n",
       "\n",
       "    .dataframe thead th {\n",
       "        text-align: right;\n",
       "    }\n",
       "</style>\n",
       "<table border=\"1\" class=\"dataframe\">\n",
       "  <thead>\n",
       "    <tr style=\"text-align: right;\">\n",
       "      <th></th>\n",
       "      <th>children</th>\n",
       "      <th>days_employed</th>\n",
       "      <th>dob_years</th>\n",
       "      <th>education</th>\n",
       "      <th>education_id</th>\n",
       "      <th>family_status</th>\n",
       "      <th>family_status_id</th>\n",
       "      <th>gender</th>\n",
       "      <th>income_type</th>\n",
       "      <th>debt</th>\n",
       "      <th>total_income</th>\n",
       "      <th>purpose</th>\n",
       "    </tr>\n",
       "  </thead>\n",
       "  <tbody>\n",
       "    <tr>\n",
       "      <th>0</th>\n",
       "      <td>1</td>\n",
       "      <td>8437.673028</td>\n",
       "      <td>42</td>\n",
       "      <td>высшее</td>\n",
       "      <td>0</td>\n",
       "      <td>женат / замужем</td>\n",
       "      <td>0</td>\n",
       "      <td>F</td>\n",
       "      <td>сотрудник</td>\n",
       "      <td>0</td>\n",
       "      <td>253875.639453</td>\n",
       "      <td>покупка жилья</td>\n",
       "    </tr>\n",
       "    <tr>\n",
       "      <th>1</th>\n",
       "      <td>1</td>\n",
       "      <td>4024.803754</td>\n",
       "      <td>36</td>\n",
       "      <td>среднее</td>\n",
       "      <td>1</td>\n",
       "      <td>женат / замужем</td>\n",
       "      <td>0</td>\n",
       "      <td>F</td>\n",
       "      <td>сотрудник</td>\n",
       "      <td>0</td>\n",
       "      <td>112080.014102</td>\n",
       "      <td>приобретение автомобиля</td>\n",
       "    </tr>\n",
       "    <tr>\n",
       "      <th>2</th>\n",
       "      <td>0</td>\n",
       "      <td>5623.422610</td>\n",
       "      <td>33</td>\n",
       "      <td>Среднее</td>\n",
       "      <td>1</td>\n",
       "      <td>женат / замужем</td>\n",
       "      <td>0</td>\n",
       "      <td>M</td>\n",
       "      <td>сотрудник</td>\n",
       "      <td>0</td>\n",
       "      <td>145885.952297</td>\n",
       "      <td>покупка жилья</td>\n",
       "    </tr>\n",
       "    <tr>\n",
       "      <th>3</th>\n",
       "      <td>3</td>\n",
       "      <td>4124.747207</td>\n",
       "      <td>32</td>\n",
       "      <td>среднее</td>\n",
       "      <td>1</td>\n",
       "      <td>женат / замужем</td>\n",
       "      <td>0</td>\n",
       "      <td>M</td>\n",
       "      <td>сотрудник</td>\n",
       "      <td>0</td>\n",
       "      <td>267628.550329</td>\n",
       "      <td>дополнительное образование</td>\n",
       "    </tr>\n",
       "    <tr>\n",
       "      <th>4</th>\n",
       "      <td>0</td>\n",
       "      <td>340266.072047</td>\n",
       "      <td>53</td>\n",
       "      <td>среднее</td>\n",
       "      <td>1</td>\n",
       "      <td>гражданский брак</td>\n",
       "      <td>1</td>\n",
       "      <td>F</td>\n",
       "      <td>пенсионер</td>\n",
       "      <td>0</td>\n",
       "      <td>158616.077870</td>\n",
       "      <td>сыграть свадьбу</td>\n",
       "    </tr>\n",
       "    <tr>\n",
       "      <th>...</th>\n",
       "      <td>...</td>\n",
       "      <td>...</td>\n",
       "      <td>...</td>\n",
       "      <td>...</td>\n",
       "      <td>...</td>\n",
       "      <td>...</td>\n",
       "      <td>...</td>\n",
       "      <td>...</td>\n",
       "      <td>...</td>\n",
       "      <td>...</td>\n",
       "      <td>...</td>\n",
       "      <td>...</td>\n",
       "    </tr>\n",
       "    <tr>\n",
       "      <th>21520</th>\n",
       "      <td>1</td>\n",
       "      <td>4529.316663</td>\n",
       "      <td>43</td>\n",
       "      <td>среднее</td>\n",
       "      <td>1</td>\n",
       "      <td>гражданский брак</td>\n",
       "      <td>1</td>\n",
       "      <td>F</td>\n",
       "      <td>компаньон</td>\n",
       "      <td>0</td>\n",
       "      <td>224791.862382</td>\n",
       "      <td>операции с жильем</td>\n",
       "    </tr>\n",
       "    <tr>\n",
       "      <th>21521</th>\n",
       "      <td>0</td>\n",
       "      <td>343937.404131</td>\n",
       "      <td>67</td>\n",
       "      <td>среднее</td>\n",
       "      <td>1</td>\n",
       "      <td>женат / замужем</td>\n",
       "      <td>0</td>\n",
       "      <td>F</td>\n",
       "      <td>пенсионер</td>\n",
       "      <td>0</td>\n",
       "      <td>155999.806512</td>\n",
       "      <td>сделка с автомобилем</td>\n",
       "    </tr>\n",
       "    <tr>\n",
       "      <th>21522</th>\n",
       "      <td>1</td>\n",
       "      <td>2113.346888</td>\n",
       "      <td>38</td>\n",
       "      <td>среднее</td>\n",
       "      <td>1</td>\n",
       "      <td>гражданский брак</td>\n",
       "      <td>1</td>\n",
       "      <td>M</td>\n",
       "      <td>сотрудник</td>\n",
       "      <td>1</td>\n",
       "      <td>89672.561153</td>\n",
       "      <td>недвижимость</td>\n",
       "    </tr>\n",
       "    <tr>\n",
       "      <th>21523</th>\n",
       "      <td>3</td>\n",
       "      <td>3112.481705</td>\n",
       "      <td>38</td>\n",
       "      <td>среднее</td>\n",
       "      <td>1</td>\n",
       "      <td>женат / замужем</td>\n",
       "      <td>0</td>\n",
       "      <td>M</td>\n",
       "      <td>сотрудник</td>\n",
       "      <td>1</td>\n",
       "      <td>244093.050500</td>\n",
       "      <td>на покупку своего автомобиля</td>\n",
       "    </tr>\n",
       "    <tr>\n",
       "      <th>21524</th>\n",
       "      <td>2</td>\n",
       "      <td>1984.507589</td>\n",
       "      <td>40</td>\n",
       "      <td>среднее</td>\n",
       "      <td>1</td>\n",
       "      <td>женат / замужем</td>\n",
       "      <td>0</td>\n",
       "      <td>F</td>\n",
       "      <td>сотрудник</td>\n",
       "      <td>0</td>\n",
       "      <td>82047.418899</td>\n",
       "      <td>на покупку автомобиля</td>\n",
       "    </tr>\n",
       "  </tbody>\n",
       "</table>\n",
       "<p>21402 rows × 12 columns</p>\n",
       "</div>"
      ],
      "text/plain": [
       "       children  days_employed  dob_years education  education_id  \\\n",
       "0             1    8437.673028         42    высшее             0   \n",
       "1             1    4024.803754         36   среднее             1   \n",
       "2             0    5623.422610         33   Среднее             1   \n",
       "3             3    4124.747207         32   среднее             1   \n",
       "4             0  340266.072047         53   среднее             1   \n",
       "...         ...            ...        ...       ...           ...   \n",
       "21520         1    4529.316663         43   среднее             1   \n",
       "21521         0  343937.404131         67   среднее             1   \n",
       "21522         1    2113.346888         38   среднее             1   \n",
       "21523         3    3112.481705         38   среднее             1   \n",
       "21524         2    1984.507589         40   среднее             1   \n",
       "\n",
       "          family_status  family_status_id gender income_type  debt  \\\n",
       "0       женат / замужем                 0      F   сотрудник     0   \n",
       "1       женат / замужем                 0      F   сотрудник     0   \n",
       "2       женат / замужем                 0      M   сотрудник     0   \n",
       "3       женат / замужем                 0      M   сотрудник     0   \n",
       "4      гражданский брак                 1      F   пенсионер     0   \n",
       "...                 ...               ...    ...         ...   ...   \n",
       "21520  гражданский брак                 1      F   компаньон     0   \n",
       "21521   женат / замужем                 0      F   пенсионер     0   \n",
       "21522  гражданский брак                 1      M   сотрудник     1   \n",
       "21523   женат / замужем                 0      M   сотрудник     1   \n",
       "21524   женат / замужем                 0      F   сотрудник     0   \n",
       "\n",
       "        total_income                       purpose  \n",
       "0      253875.639453                 покупка жилья  \n",
       "1      112080.014102       приобретение автомобиля  \n",
       "2      145885.952297                 покупка жилья  \n",
       "3      267628.550329    дополнительное образование  \n",
       "4      158616.077870               сыграть свадьбу  \n",
       "...              ...                           ...  \n",
       "21520  224791.862382             операции с жильем  \n",
       "21521  155999.806512          сделка с автомобилем  \n",
       "21522   89672.561153                  недвижимость  \n",
       "21523  244093.050500  на покупку своего автомобиля  \n",
       "21524   82047.418899         на покупку автомобиля  \n",
       "\n",
       "[21402 rows x 12 columns]"
      ]
     },
     "execution_count": 12,
     "metadata": {},
     "output_type": "execute_result"
    }
   ],
   "source": [
    "data.query(('children!=-1') and ('children!=20'))"
   ]
  },
  {
   "cell_type": "markdown",
   "id": "8c6ac9f1",
   "metadata": {
    "deletable": false,
    "editable": false,
    "id": "8c6ac9f1"
   },
   "source": [
    "**Задание 10. Ещё раз выведите перечень уникальных значений столбца `children`, чтобы убедиться, что артефакты удалены.**"
   ]
  },
  {
   "cell_type": "code",
   "execution_count": null,
   "id": "07337b81",
   "metadata": {
    "deletable": false,
    "id": "07337b81",
    "outputId": "b2097101-d49d-44d9-901b-32a65c9463d1"
   },
   "outputs": [
    {
     "data": {
      "text/plain": [
       "array([1, 0, 3, 2, 4, 5], dtype=int64)"
      ]
     },
     "execution_count": 13,
     "metadata": {},
     "output_type": "execute_result"
    }
   ],
   "source": [
    "data['children'].unique()"
   ]
  },
  {
   "cell_type": "markdown",
   "id": "ee3f52d4",
   "metadata": {
    "deletable": false,
    "editable": false,
    "id": "ee3f52d4"
   },
   "source": [
    "### Удаление пропусков (продолжение)"
   ]
  },
  {
   "cell_type": "markdown",
   "id": "a700b0e4",
   "metadata": {
    "deletable": false,
    "editable": false,
    "id": "a700b0e4"
   },
   "source": [
    "**Задание 11. Заполните пропуски в столбце `days_employed` медианными значениями по каждого типа занятости `income_type`.**"
   ]
  },
  {
   "cell_type": "code",
   "execution_count": null,
   "id": "61946b83",
   "metadata": {
    "deletable": false,
    "id": "61946b83"
   },
   "outputs": [],
   "source": [
    "for t in data['income_type'].unique():\n",
    "    data.loc[(data['income_type'] == t) & (data['days_employed'].isna()), 'days_employed'] = \\\n",
    "    data.loc[(data['income_type'] == t), 'days_employed'].median()"
   ]
  },
  {
   "cell_type": "markdown",
   "id": "550dcd9b",
   "metadata": {
    "deletable": false,
    "editable": false,
    "id": "550dcd9b"
   },
   "source": [
    "**Задание 12. Убедитесь, что все пропуски заполнены. Проверьте себя и ещё раз выведите количество пропущенных значений для каждого столбца с помощью двух методов.**"
   ]
  },
  {
   "cell_type": "code",
   "execution_count": null,
   "id": "937c7014",
   "metadata": {
    "deletable": false,
    "id": "937c7014",
    "outputId": "8da1e4e1-358e-4e87-98c9-f261bce0a7b2"
   },
   "outputs": [
    {
     "data": {
      "text/plain": [
       "children            0\n",
       "days_employed       0\n",
       "dob_years           0\n",
       "education           0\n",
       "education_id        0\n",
       "family_status       0\n",
       "family_status_id    0\n",
       "gender              0\n",
       "income_type         0\n",
       "debt                0\n",
       "total_income        0\n",
       "purpose             0\n",
       "dtype: int64"
      ]
     },
     "execution_count": 15,
     "metadata": {},
     "output_type": "execute_result"
    }
   ],
   "source": [
    "data.isna().sum()"
   ]
  },
  {
   "cell_type": "markdown",
   "id": "d522e295",
   "metadata": {
    "deletable": false,
    "editable": false,
    "id": "d522e295"
   },
   "source": [
    "### Изменение типов данных"
   ]
  },
  {
   "cell_type": "markdown",
   "id": "c229c581",
   "metadata": {
    "deletable": false,
    "editable": false,
    "id": "c229c581"
   },
   "source": [
    "**Задание 13. Замените вещественный тип данных в столбце `total_income` на целочисленный с помощью метода `astype()`.**"
   ]
  },
  {
   "cell_type": "code",
   "execution_count": null,
   "id": "31036462",
   "metadata": {
    "deletable": false,
    "id": "31036462"
   },
   "outputs": [],
   "source": [
    "data['total_income'] = data['total_income'].astype(int)"
   ]
  },
  {
   "cell_type": "markdown",
   "id": "b8e3d1d9",
   "metadata": {
    "deletable": false,
    "editable": false,
    "id": "b8e3d1d9"
   },
   "source": [
    "### Обработка дубликатов"
   ]
  },
  {
   "cell_type": "markdown",
   "id": "9be53c49",
   "metadata": {
    "deletable": false,
    "editable": false,
    "id": "9be53c49"
   },
   "source": [
    "**Задание 14. Обработайте неявные дубликаты в столбце `education`. В этом столбце есть одни и те же значения, но записанные по-разному: с использованием заглавных и строчных букв. Приведите их к нижнему регистру.**"
   ]
  },
  {
   "cell_type": "code",
   "execution_count": null,
   "id": "d89e73e1",
   "metadata": {
    "deletable": false,
    "id": "d89e73e1"
   },
   "outputs": [],
   "source": [
    "data['education'] = data['education'].str.lower()"
   ]
  },
  {
   "cell_type": "markdown",
   "id": "01d4500e",
   "metadata": {
    "deletable": false,
    "editable": false,
    "id": "01d4500e"
   },
   "source": [
    "**Задание 15. Выведите на экран количество строк-дубликатов в данных. Если такие строки присутствуют, удалите их.**"
   ]
  },
  {
   "cell_type": "code",
   "execution_count": null,
   "id": "e10efb23",
   "metadata": {
    "deletable": false,
    "id": "e10efb23",
    "outputId": "9684deba-1934-42d1-99e1-cda61740f822"
   },
   "outputs": [
    {
     "data": {
      "text/plain": [
       "71"
      ]
     },
     "execution_count": 18,
     "metadata": {},
     "output_type": "execute_result"
    }
   ],
   "source": [
    "data.duplicated().sum()"
   ]
  },
  {
   "cell_type": "code",
   "execution_count": null,
   "id": "df853f20",
   "metadata": {
    "deletable": false,
    "id": "df853f20"
   },
   "outputs": [],
   "source": [
    "data = data.drop_duplicates()"
   ]
  },
  {
   "cell_type": "markdown",
   "id": "627be38f",
   "metadata": {
    "deletable": false,
    "editable": false,
    "id": "627be38f"
   },
   "source": [
    "### Категоризация данных"
   ]
  },
  {
   "cell_type": "markdown",
   "id": "4684c3e0",
   "metadata": {
    "deletable": false,
    "editable": false,
    "id": "4684c3e0"
   },
   "source": [
    "**Задание 16. На основании диапазонов, указанных ниже, создайте в датафрейме `data` столбец `total_income_category` с категориями:**\n",
    "\n",
    "- 0–30000 — `'E'`;\n",
    "- 30001–50000 — `'D'`;\n",
    "- 50001–200000 — `'C'`;\n",
    "- 200001–1000000 — `'B'`;\n",
    "- 1000001 и выше — `'A'`.\n",
    "\n",
    "\n",
    "**Например, кредитополучателю с доходом 25000 нужно назначить категорию `'E'`, а клиенту, получающему 235000, — `'B'`. Используйте собственную функцию с именем `categorize_income()` и метод `apply()`.**"
   ]
  },
  {
   "cell_type": "code",
   "execution_count": null,
   "id": "78965238",
   "metadata": {
    "deletable": false,
    "id": "78965238"
   },
   "outputs": [],
   "source": [
    "def categorize_income(income):\n",
    "    try:\n",
    "        if 0 <= income <= 30000:\n",
    "            return 'E'\n",
    "        elif 30001 <= income <= 50000:\n",
    "            return 'D'\n",
    "        elif 50001 <= income <= 200000:\n",
    "            return 'C'\n",
    "        elif 200001 <= income <= 1000000:\n",
    "            return 'B'\n",
    "        elif income >= 1000001:\n",
    "            return 'A'\n",
    "    except:\n",
    "        pass"
   ]
  },
  {
   "cell_type": "code",
   "execution_count": null,
   "id": "0980ada1",
   "metadata": {
    "deletable": false,
    "id": "0980ada1"
   },
   "outputs": [],
   "source": [
    "data['total_income_category'] = data['total_income'].apply(categorize_income)"
   ]
  },
  {
   "cell_type": "code",
   "execution_count": null,
   "id": "035eada0",
   "metadata": {},
   "outputs": [
    {
     "data": {
      "text/plain": [
       "C    15921\n",
       "B     5014\n",
       "D      349\n",
       "A       25\n",
       "E       22\n",
       "Name: total_income_category, dtype: int64"
      ]
     },
     "execution_count": 22,
     "metadata": {},
     "output_type": "execute_result"
    }
   ],
   "source": [
    "data['total_income_category'].value_counts()"
   ]
  },
  {
   "cell_type": "markdown",
   "id": "9917bba0",
   "metadata": {
    "deletable": false,
    "editable": false,
    "id": "9917bba0"
   },
   "source": [
    "**Задание 17. Выведите на экран перечень уникальных целей взятия кредита из столбца `purpose`.**"
   ]
  },
  {
   "cell_type": "code",
   "execution_count": null,
   "id": "ee07b65e",
   "metadata": {
    "deletable": false,
    "id": "ee07b65e",
    "outputId": "673c12d9-7d7e-4ae0-9812-c622c89dd244"
   },
   "outputs": [
    {
     "data": {
      "text/plain": [
       "array(['покупка жилья', 'приобретение автомобиля',\n",
       "       'дополнительное образование', 'сыграть свадьбу',\n",
       "       'операции с жильем', 'образование', 'на проведение свадьбы',\n",
       "       'покупка жилья для семьи', 'покупка недвижимости',\n",
       "       'покупка коммерческой недвижимости', 'покупка жилой недвижимости',\n",
       "       'строительство собственной недвижимости', 'недвижимость',\n",
       "       'строительство недвижимости', 'на покупку подержанного автомобиля',\n",
       "       'на покупку своего автомобиля',\n",
       "       'операции с коммерческой недвижимостью',\n",
       "       'строительство жилой недвижимости', 'жилье',\n",
       "       'операции со своей недвижимостью', 'автомобили',\n",
       "       'заняться образованием', 'сделка с подержанным автомобилем',\n",
       "       'получение образования', 'автомобиль', 'свадьба',\n",
       "       'получение дополнительного образования', 'покупка своего жилья',\n",
       "       'операции с недвижимостью', 'получение высшего образования',\n",
       "       'свой автомобиль', 'сделка с автомобилем',\n",
       "       'профильное образование', 'высшее образование',\n",
       "       'покупка жилья для сдачи', 'на покупку автомобиля', 'ремонт жилью',\n",
       "       'заняться высшим образованием'], dtype=object)"
      ]
     },
     "execution_count": 23,
     "metadata": {},
     "output_type": "execute_result"
    }
   ],
   "source": [
    "data['purpose'].unique()"
   ]
  },
  {
   "cell_type": "markdown",
   "id": "52b79d56",
   "metadata": {
    "deletable": false,
    "editable": false,
    "id": "52b79d56"
   },
   "source": [
    "**Задание 18. Создайте функцию, которая на основании данных из столбца `purpose` сформирует новый столбец `purpose_category`, в который войдут следующие категории:**\n",
    "\n",
    "- `'операции с автомобилем'`,\n",
    "- `'операции с недвижимостью'`,\n",
    "- `'проведение свадьбы'`,\n",
    "- `'получение образования'`.\n",
    "\n",
    "**Например, если в столбце `purpose` находится подстрока `'на покупку автомобиля'`, то в столбце `purpose_category` должна появиться строка `'операции с автомобилем'`.**\n",
    "\n",
    "**Используйте собственную функцию с именем `categorize_purpose()` и метод `apply()`. Изучите данные в столбце `purpose` и определите, какие подстроки помогут вам правильно определить категорию.**"
   ]
  },
  {
   "cell_type": "code",
   "execution_count": null,
   "id": "be41da5d",
   "metadata": {
    "deletable": false,
    "id": "be41da5d"
   },
   "outputs": [],
   "source": [
    "def categorize_purpose(row):\n",
    "    try:\n",
    "        if 'автом' in row:\n",
    "            return 'операции с автомобилем'\n",
    "        elif 'жил' in row or 'недвиж' in row:\n",
    "            return 'операции с недвижимостью'\n",
    "        elif 'свад' in row:\n",
    "            return 'проведение свадьбы'\n",
    "        elif 'образов' in row:\n",
    "            return 'получение образования'\n",
    "    except:\n",
    "        return 'нет категории'"
   ]
  },
  {
   "cell_type": "code",
   "execution_count": null,
   "id": "94c4a19a",
   "metadata": {
    "deletable": false,
    "id": "94c4a19a"
   },
   "outputs": [],
   "source": [
    "data['purpose_category'] = data['purpose'].apply(categorize_purpose)"
   ]
  },
  {
   "cell_type": "markdown",
   "id": "2f2414f6",
   "metadata": {},
   "source": [
    "<div class=\"alert alert-block alert-info\">\n",
    " Проверка работы функции \n",
    "  </div>"
   ]
  },
  {
   "cell_type": "code",
   "execution_count": null,
   "id": "8ee9c0bf",
   "metadata": {},
   "outputs": [
    {
     "data": {
      "text/plain": [
       "операции с недвижимостью    10751\n",
       "операции с автомобилем       4279\n",
       "получение образования        3988\n",
       "проведение свадьбы           2313\n",
       "Name: purpose_category, dtype: int64"
      ]
     },
     "execution_count": 26,
     "metadata": {},
     "output_type": "execute_result"
    }
   ],
   "source": [
    "data['purpose_category'].value_counts()"
   ]
  },
  {
   "cell_type": "markdown",
   "id": "3d596c34",
   "metadata": {
    "deletable": false,
    "editable": false,
    "id": "3d596c34"
   },
   "source": [
    "### Шаг 3. Исследуйте данные и ответьте на вопросы"
   ]
  },
  {
   "cell_type": "markdown",
   "id": "89db3e0f",
   "metadata": {},
   "source": [
    "Для определения зависимости между величинами будем использовать сводные таблицы. в общем случае группируем строки по столбцу который будет предметом анализа (значение для аргумента `'index'`). Данные будем брать из данным столбца `'debt'` (означение для аргумента `'values'`). Далее будем применять функцию `'count'` для определения общего количества заемщиков. У нас бинарные данные в столбце `'debt'`. Применив функцию `'sum'` определим количество строк со значением `'1'`, что будет соответствовать общему количеству должников. Далее применим функцию `'mean'` она покажет среднее значение для столбца, что будет соответствовать доле должников от общего количества заемщиков.\n",
    "Применим данную методику для целевых показателей."
   ]
  },
  {
   "cell_type": "markdown",
   "id": "648db036",
   "metadata": {
    "deletable": false,
    "editable": false,
    "id": "648db036"
   },
   "source": [
    "#### 3.1 Есть ли зависимость между количеством детей и возвратом кредита в срок?"
   ]
  },
  {
   "cell_type": "code",
   "execution_count": null,
   "id": "711c341f",
   "metadata": {},
   "outputs": [],
   "source": [
    "# код до\n",
    "\n",
    "# применим описаную выше методику присвоив аргументу 'index' значение исследуемого столбца 'children'\n",
    "#data.pivot_table(index = 'children', values = 'debt', aggfunc = ['count', 'sum', 'mean'])"
   ]
  },
  {
   "cell_type": "code",
   "execution_count": null,
   "id": "7fcff25e",
   "metadata": {
    "deletable": false,
    "id": "7fcff25e",
    "scrolled": true
   },
   "outputs": [
    {
     "data": {
      "text/html": [
       "<div>\n",
       "<style scoped>\n",
       "    .dataframe tbody tr th:only-of-type {\n",
       "        vertical-align: middle;\n",
       "    }\n",
       "\n",
       "    .dataframe tbody tr th {\n",
       "        vertical-align: top;\n",
       "    }\n",
       "\n",
       "    .dataframe thead th {\n",
       "        text-align: right;\n",
       "    }\n",
       "</style>\n",
       "<table border=\"1\" class=\"dataframe\">\n",
       "  <thead>\n",
       "    <tr style=\"text-align: right;\">\n",
       "      <th></th>\n",
       "      <th>children</th>\n",
       "      <th>credits</th>\n",
       "      <th>debts</th>\n",
       "      <th>ratio, %</th>\n",
       "    </tr>\n",
       "  </thead>\n",
       "  <tbody>\n",
       "    <tr>\n",
       "      <th>0</th>\n",
       "      <td>0</td>\n",
       "      <td>14091</td>\n",
       "      <td>1063</td>\n",
       "      <td>7.54</td>\n",
       "    </tr>\n",
       "    <tr>\n",
       "      <th>1</th>\n",
       "      <td>1</td>\n",
       "      <td>4808</td>\n",
       "      <td>444</td>\n",
       "      <td>9.23</td>\n",
       "    </tr>\n",
       "    <tr>\n",
       "      <th>2</th>\n",
       "      <td>2</td>\n",
       "      <td>2052</td>\n",
       "      <td>194</td>\n",
       "      <td>9.45</td>\n",
       "    </tr>\n",
       "    <tr>\n",
       "      <th>3</th>\n",
       "      <td>3</td>\n",
       "      <td>330</td>\n",
       "      <td>27</td>\n",
       "      <td>8.18</td>\n",
       "    </tr>\n",
       "    <tr>\n",
       "      <th>4</th>\n",
       "      <td>4</td>\n",
       "      <td>41</td>\n",
       "      <td>4</td>\n",
       "      <td>9.76</td>\n",
       "    </tr>\n",
       "    <tr>\n",
       "      <th>5</th>\n",
       "      <td>5</td>\n",
       "      <td>9</td>\n",
       "      <td>0</td>\n",
       "      <td>0.00</td>\n",
       "    </tr>\n",
       "  </tbody>\n",
       "</table>\n",
       "</div>"
      ],
      "text/plain": [
       "   children  credits  debts  ratio, %\n",
       "0         0    14091   1063      7.54\n",
       "1         1     4808    444      9.23\n",
       "2         2     2052    194      9.45\n",
       "3         3      330     27      8.18\n",
       "4         4       41      4      9.76\n",
       "5         5        9      0      0.00"
      ]
     },
     "metadata": {},
     "output_type": "display_data"
    }
   ],
   "source": [
    "#код после\n",
    "\n",
    "# применим описаную выше методику присвоив аргументу 'index' значение исследуемого столбца 'children'\n",
    "table_children_affect_debt = data.pivot_table(index = 'children', values = 'debt', aggfunc = ['count', 'sum', 'mean'])\n",
    "\n",
    "#удалим в названии столбцов первый индекс, а затем сбросим нумерацию индексов в строках\n",
    "table_children_affect_debt = table_children_affect_debt.droplevel(1, axis=1).reset_index()\n",
    "\n",
    "#переименуем столбец 'mean' в 'ratio, %'\n",
    "table_children_affect_debt=table_children_affect_debt.\\\n",
    "    rename(columns={'children':'children', 'count':'credits', 'sum':'debts', 'mean':'ratio, %'})\n",
    "\n",
    "#переведем значения столбца 'mean' в проценты с 2 знаками после запятой\n",
    "table_children_affect_debt['ratio, %']=table_children_affect_debt['ratio, %']*100\n",
    "table_children_affect_debt['ratio, %']=round(table_children_affect_debt['ratio, %'],2)\n",
    "\n",
    "#выведем результат на экран, отсортировав данные по столбцу 'debts' в обратном порядке для оценки сбалансированности выборки\n",
    "display(table_children_affect_debt.sort_values(by='debts',ascending=False))"
   ]
  },
  {
   "cell_type": "markdown",
   "id": "87eb9cdb",
   "metadata": {
    "tags": []
   },
   "source": [
    "Объявим функцию для отображения значений на столбцах диаграммы\n",
    "<a name=\"function\"></a>"
   ]
  },
  {
   "cell_type": "code",
   "execution_count": null,
   "id": "5ef86e16",
   "metadata": {},
   "outputs": [],
   "source": [
    "#код не мой, но он помогает более наглядно визуализировать данные на графике (добавляет подписи данных над столбцами) \n",
    "\n",
    "def show_values(axs, orient=\"v\", space=.1):\n",
    "    def _single(ax):\n",
    "        if orient == \"v\":\n",
    "            for p in ax.patches:\n",
    "                _x = p.get_x() + p.get_width() / 2\n",
    "                _y = p.get_y() + p.get_height() + (p.get_height()*0.01)\n",
    "                value = '{:.1f}'.format(p.get_height())\n",
    "                ax.text(_x, _y, value, ha=\"center\") \n",
    "        elif orient == \"h\":\n",
    "            for p in ax.patches:\n",
    "                _x = p.get_x() + p.get_width() + float(space)\n",
    "                _y = p.get_y() + p.get_height() - (p.get_height()*0.5)\n",
    "                value = '{:.1f}'.format(p.get_width())\n",
    "                ax.text(_x, _y, value, ha=\"left\")\n",
    "\n",
    "    if isinstance(axs, np.ndarray):\n",
    "        for idx, ax in np.ndenumerate(axs):\n",
    "            _single(ax)\n",
    "    else:\n",
    "        _single(axs)"
   ]
  },
  {
   "cell_type": "code",
   "execution_count": null,
   "id": "3b46dc92",
   "metadata": {},
   "outputs": [
    {
     "data": {
      "image/png": "[encoded data removed]",
      "text/plain": [
       "<Figure size 640x480 with 1 Axes>"
      ]
     },
     "metadata": {},
     "output_type": "display_data"
    }
   ],
   "source": [
    "#выведем результат ан экран в виде столбчатой диаграммы для большей наглядности\n",
    "barplot_children_affect_debt=sb.barplot(data=table_children_affect_debt, x='children', y='ratio, %')\n",
    "\n",
    "#используя функцию выводим значения на каждом столбце\n",
    "show_values(barplot_children_affect_debt)"
   ]
  },
  {
   "cell_type": "markdown",
   "id": "2eb9088e",
   "metadata": {
    "deletable": false,
    "id": "2eb9088e"
   },
   "source": [
    "**Вывод:** Согласно предоставленным данным наиболее добросовестными платильщиками кредита являются бездетные кредитополучатели. С ростом количества делей доля просрочки растет и только заемщики с 5 детьми не имеют просрочек по кредиту, но их количество 9 нельзя использовать т.к. это крайне незначительная величина."
   ]
  },
  {
   "cell_type": "markdown",
   "id": "74c9b3a7",
   "metadata": {
    "deletable": false,
    "editable": false,
    "id": "74c9b3a7"
   },
   "source": [
    "#### 3.2 Есть ли зависимость между семейным положением и возвратом кредита в срок?"
   ]
  },
  {
   "cell_type": "code",
   "execution_count": null,
   "id": "8098ab3b",
   "metadata": {
    "deletable": false,
    "id": "8098ab3b",
    "scrolled": true
   },
   "outputs": [],
   "source": [
    "#код до\n",
    "\n",
    "# применим описаную выше методику присвоив аргументу 'index' значение исследуемого столбца 'family_status'\n",
    "#data.pivot_table(index = 'family_status', values = 'debt', aggfunc = ['count', 'sum', 'mean'])"
   ]
  },
  {
   "cell_type": "code",
   "execution_count": null,
   "id": "dc001892",
   "metadata": {},
   "outputs": [
    {
     "data": {
      "text/html": [
       "<div>\n",
       "<style scoped>\n",
       "    .dataframe tbody tr th:only-of-type {\n",
       "        vertical-align: middle;\n",
       "    }\n",
       "\n",
       "    .dataframe tbody tr th {\n",
       "        vertical-align: top;\n",
       "    }\n",
       "\n",
       "    .dataframe thead th {\n",
       "        text-align: right;\n",
       "    }\n",
       "</style>\n",
       "<table border=\"1\" class=\"dataframe\">\n",
       "  <thead>\n",
       "    <tr style=\"text-align: right;\">\n",
       "      <th></th>\n",
       "      <th>family_status</th>\n",
       "      <th>credits</th>\n",
       "      <th>debts</th>\n",
       "      <th>ratio, %</th>\n",
       "    </tr>\n",
       "  </thead>\n",
       "  <tbody>\n",
       "    <tr>\n",
       "      <th>4</th>\n",
       "      <td>женат / замужем</td>\n",
       "      <td>12261</td>\n",
       "      <td>927</td>\n",
       "      <td>7.56</td>\n",
       "    </tr>\n",
       "    <tr>\n",
       "      <th>3</th>\n",
       "      <td>гражданский брак</td>\n",
       "      <td>4134</td>\n",
       "      <td>385</td>\n",
       "      <td>9.31</td>\n",
       "    </tr>\n",
       "    <tr>\n",
       "      <th>0</th>\n",
       "      <td>Не женат / не замужем</td>\n",
       "      <td>2796</td>\n",
       "      <td>273</td>\n",
       "      <td>9.76</td>\n",
       "    </tr>\n",
       "    <tr>\n",
       "      <th>1</th>\n",
       "      <td>в разводе</td>\n",
       "      <td>1189</td>\n",
       "      <td>84</td>\n",
       "      <td>7.06</td>\n",
       "    </tr>\n",
       "    <tr>\n",
       "      <th>2</th>\n",
       "      <td>вдовец / вдова</td>\n",
       "      <td>951</td>\n",
       "      <td>63</td>\n",
       "      <td>6.62</td>\n",
       "    </tr>\n",
       "  </tbody>\n",
       "</table>\n",
       "</div>"
      ],
      "text/plain": [
       "           family_status  credits  debts  ratio, %\n",
       "4        женат / замужем    12261    927      7.56\n",
       "3       гражданский брак     4134    385      9.31\n",
       "0  Не женат / не замужем     2796    273      9.76\n",
       "1              в разводе     1189     84      7.06\n",
       "2         вдовец / вдова      951     63      6.62"
      ]
     },
     "metadata": {},
     "output_type": "display_data"
    }
   ],
   "source": [
    "#код после\n",
    "\n",
    "# применим описаную выше методику присвоив аргументу 'index' значение исследуемого столбца 'family_status'\n",
    "table_family_status_affect_debt = data.pivot_table(index = 'family_status', values = 'debt', aggfunc = ['count', 'sum', 'mean'])\n",
    "\n",
    "#удалим в названии столбцов первый индекс, а затем сбросим нумерацию индексов в строках\n",
    "table_family_status_affect_debt = table_family_status_affect_debt.droplevel(1, axis=1).reset_index()\n",
    "\n",
    "#переименуем столбец 'mean' в 'ratio, %'\n",
    "table_family_status_affect_debt=table_family_status_affect_debt.\\\n",
    "    rename(columns={'family_status':'family_status', 'count':'credits', 'sum':'debts', 'mean':'ratio, %'})\n",
    "\n",
    "#переведем значения столбца 'mean' в проценты с 2 знаками после запятой\n",
    "table_family_status_affect_debt['ratio, %']=table_family_status_affect_debt['ratio, %']*100\n",
    "table_family_status_affect_debt['ratio, %']=round(table_family_status_affect_debt['ratio, %'],2)\n",
    "\n",
    "#выведем результат на экран, отсортировав данные по столбцу 'debts' в обратном порядке для оценки сбалансированности выборки\n",
    "display(table_family_status_affect_debt.sort_values(by='debts',ascending=False))"
   ]
  },
  {
   "cell_type": "code",
   "execution_count": null,
   "id": "1dfa2e84",
   "metadata": {},
   "outputs": [
    {
     "data": {
      "image/png": "[encoded data removed]",
      "text/plain": [
       "<Figure size 640x480 with 1 Axes>"
      ]
     },
     "metadata": {},
     "output_type": "display_data"
    }
   ],
   "source": [
    "#выведем результат ан экран в виде столбчатой диаграммы для большей наглядности\n",
    "barplot_family_status_affect_debt = sb.barplot(data=table_family_status_affect_debt, x='ratio, %', y='family_status')\n",
    "\n",
    "#используя функцию выводим значения на каждом столбце\n",
    "show_values(barplot_family_status_affect_debt, \"h\")"
   ]
  },
  {
   "cell_type": "markdown",
   "id": "9e3f0643",
   "metadata": {},
   "source": [
    "**Вывод:** Представленные в датафрейме данные неравномерны для разных категорий семейного статуса. Достоверные данные имеются только для трех категорий из которых наиболее ответственными являются заемщики находящиеся в браке, доля просрочки здесь составляет 7,56%. Для заемщиков проживающих в гражданском браке либо холостых этот показатель значительно выше и составляет 9,31% и 9,76% соответственно. Данных имеющихся по двум оставшимся категориям (`вдовец/вдова`, в `разводе`) не достаточно для значимых выводов."
   ]
  },
  {
   "cell_type": "markdown",
   "id": "9529de68",
   "metadata": {
    "deletable": false,
    "editable": false,
    "id": "9529de68"
   },
   "source": [
    "#### 3.3 Есть ли зависимость между уровнем дохода и возвратом кредита в срок?"
   ]
  },
  {
   "cell_type": "code",
   "execution_count": null,
   "id": "8787f44a",
   "metadata": {
    "deletable": false,
    "id": "8787f44a"
   },
   "outputs": [],
   "source": [
    "#код до\n",
    "\n",
    "# применим описаную выше методику присвоив аргументу 'index' значение исследуемого столбца 'total_income_category'\n",
    "#data.pivot_table(index = 'total_income_category', values = 'debt', aggfunc = ['count', 'sum', 'mean'])"
   ]
  },
  {
   "cell_type": "code",
   "execution_count": null,
   "id": "407e0aa4",
   "metadata": {},
   "outputs": [
    {
     "data": {
      "text/html": [
       "<div>\n",
       "<style scoped>\n",
       "    .dataframe tbody tr th:only-of-type {\n",
       "        vertical-align: middle;\n",
       "    }\n",
       "\n",
       "    .dataframe tbody tr th {\n",
       "        vertical-align: top;\n",
       "    }\n",
       "\n",
       "    .dataframe thead th {\n",
       "        text-align: right;\n",
       "    }\n",
       "</style>\n",
       "<table border=\"1\" class=\"dataframe\">\n",
       "  <thead>\n",
       "    <tr style=\"text-align: right;\">\n",
       "      <th></th>\n",
       "      <th>total_income_category</th>\n",
       "      <th>credits</th>\n",
       "      <th>debts</th>\n",
       "      <th>ratio, %</th>\n",
       "    </tr>\n",
       "  </thead>\n",
       "  <tbody>\n",
       "    <tr>\n",
       "      <th>2</th>\n",
       "      <td>C</td>\n",
       "      <td>15921</td>\n",
       "      <td>1353</td>\n",
       "      <td>8.50</td>\n",
       "    </tr>\n",
       "    <tr>\n",
       "      <th>1</th>\n",
       "      <td>B</td>\n",
       "      <td>5014</td>\n",
       "      <td>354</td>\n",
       "      <td>7.06</td>\n",
       "    </tr>\n",
       "    <tr>\n",
       "      <th>3</th>\n",
       "      <td>D</td>\n",
       "      <td>349</td>\n",
       "      <td>21</td>\n",
       "      <td>6.02</td>\n",
       "    </tr>\n",
       "    <tr>\n",
       "      <th>0</th>\n",
       "      <td>A</td>\n",
       "      <td>25</td>\n",
       "      <td>2</td>\n",
       "      <td>8.00</td>\n",
       "    </tr>\n",
       "    <tr>\n",
       "      <th>4</th>\n",
       "      <td>E</td>\n",
       "      <td>22</td>\n",
       "      <td>2</td>\n",
       "      <td>9.09</td>\n",
       "    </tr>\n",
       "  </tbody>\n",
       "</table>\n",
       "</div>"
      ],
      "text/plain": [
       "  total_income_category  credits  debts  ratio, %\n",
       "2                     C    15921   1353      8.50\n",
       "1                     B     5014    354      7.06\n",
       "3                     D      349     21      6.02\n",
       "0                     A       25      2      8.00\n",
       "4                     E       22      2      9.09"
      ]
     },
     "metadata": {},
     "output_type": "display_data"
    }
   ],
   "source": [
    "#код после\n",
    "\n",
    "# применим описаную выше методику присвоив аргументу 'index' значение исследуемого столбца 'total_income_category'\n",
    "table_total_income_category_affect_debt = data.pivot_table(index = 'total_income_category', values = 'debt', aggfunc = ['count', 'sum', 'mean'])\n",
    "\n",
    "#удалим в названии столбцов первый индекс, а затем сбросим нумерацию индексов в строках\n",
    "table_total_income_category_affect_debt = table_total_income_category_affect_debt.droplevel(1, axis=1).reset_index()\n",
    "\n",
    "#переименуем столбец 'mean' в 'ratio, %'\n",
    "table_total_income_category_affect_debt=table_total_income_category_affect_debt.\\\n",
    "    rename(columns={'family_status':'family_status', 'count':'credits', 'sum':'debts', 'mean':'ratio, %'})\n",
    "\n",
    "#переведем значения столбца 'mean' в проценты с 2 знаками после запятой\n",
    "table_total_income_category_affect_debt['ratio, %']=table_total_income_category_affect_debt['ratio, %']*100\n",
    "table_total_income_category_affect_debt['ratio, %']=round(table_total_income_category_affect_debt['ratio, %'],2)\n",
    "\n",
    "#выведем результат на экран, отсортировав данные по столбцу 'debts' в обратном порядке для оценки сбалансированности выборки\n",
    "display(table_total_income_category_affect_debt.sort_values(by='debts',ascending=False))"
   ]
  },
  {
   "cell_type": "code",
   "execution_count": null,
   "id": "b977b9c5",
   "metadata": {},
   "outputs": [
    {
     "data": {
      "image/png": "[encoded data removed]",
      "text/plain": [
       "<Figure size 640x480 with 1 Axes>"
      ]
     },
     "metadata": {},
     "output_type": "display_data"
    }
   ],
   "source": [
    "#выведем результат ан экран в виде столбчатой диаграммы для большей наглядности\n",
    "bar_plot_total_income_category_affect_debt = sb.barplot(data=table_total_income_category_affect_debt, x='total_income_category', y='ratio, %')\n",
    "\n",
    "#используя функцию выводим значения на каждом столбце\n",
    "show_values(bar_plot_total_income_category_affect_debt)"
   ]
  },
  {
   "cell_type": "markdown",
   "id": "f18f734e",
   "metadata": {},
   "source": [
    "**Вывод:** Исходя из имеющихся данных можно делать значимые выводы только для двух категорий заемщиков (`B` и `C`). Из которых ключевой показатель лучше у категории `B` и составляет всего 7,1% что на 1,4% меньше чем у категории `С`. Оставшиеся группы достоверно оценить не возможно в виду недостаточности выборки."
   ]
  },
  {
   "cell_type": "markdown",
   "id": "1dcc9b12",
   "metadata": {
    "deletable": false,
    "editable": false,
    "id": "1dcc9b12"
   },
   "source": [
    "#### 3.4 Как разные цели кредита влияют на его возврат в срок?"
   ]
  },
  {
   "cell_type": "code",
   "execution_count": null,
   "id": "c602bc8b",
   "metadata": {
    "deletable": false,
    "id": "c602bc8b"
   },
   "outputs": [],
   "source": [
    "#код до\n",
    "\n",
    "# применим описаную выше методику присвоив аргументу 'index' значение исследуемого столбца 'purpose_category'\n",
    "#data.pivot_table(index = 'purpose_category', values = 'debt', aggfunc = ['count', 'sum', 'mean'])"
   ]
  },
  {
   "cell_type": "code",
   "execution_count": null,
   "id": "a4982d3c",
   "metadata": {},
   "outputs": [
    {
     "data": {
      "text/html": [
       "<div>\n",
       "<style scoped>\n",
       "    .dataframe tbody tr th:only-of-type {\n",
       "        vertical-align: middle;\n",
       "    }\n",
       "\n",
       "    .dataframe tbody tr th {\n",
       "        vertical-align: top;\n",
       "    }\n",
       "\n",
       "    .dataframe thead th {\n",
       "        text-align: right;\n",
       "    }\n",
       "</style>\n",
       "<table border=\"1\" class=\"dataframe\">\n",
       "  <thead>\n",
       "    <tr style=\"text-align: right;\">\n",
       "      <th></th>\n",
       "      <th>purpose_category</th>\n",
       "      <th>credits</th>\n",
       "      <th>debts</th>\n",
       "      <th>ratio, %</th>\n",
       "    </tr>\n",
       "  </thead>\n",
       "  <tbody>\n",
       "    <tr>\n",
       "      <th>1</th>\n",
       "      <td>операции с недвижимостью</td>\n",
       "      <td>10751</td>\n",
       "      <td>780</td>\n",
       "      <td>7.26</td>\n",
       "    </tr>\n",
       "    <tr>\n",
       "      <th>0</th>\n",
       "      <td>операции с автомобилем</td>\n",
       "      <td>4279</td>\n",
       "      <td>400</td>\n",
       "      <td>9.35</td>\n",
       "    </tr>\n",
       "    <tr>\n",
       "      <th>2</th>\n",
       "      <td>получение образования</td>\n",
       "      <td>3988</td>\n",
       "      <td>369</td>\n",
       "      <td>9.25</td>\n",
       "    </tr>\n",
       "    <tr>\n",
       "      <th>3</th>\n",
       "      <td>проведение свадьбы</td>\n",
       "      <td>2313</td>\n",
       "      <td>183</td>\n",
       "      <td>7.91</td>\n",
       "    </tr>\n",
       "  </tbody>\n",
       "</table>\n",
       "</div>"
      ],
      "text/plain": [
       "           purpose_category  credits  debts  ratio, %\n",
       "1  операции с недвижимостью    10751    780      7.26\n",
       "0    операции с автомобилем     4279    400      9.35\n",
       "2     получение образования     3988    369      9.25\n",
       "3        проведение свадьбы     2313    183      7.91"
      ]
     },
     "metadata": {},
     "output_type": "display_data"
    }
   ],
   "source": [
    "#код после\n",
    "\n",
    "# применим описаную выше методику присвоив аргументу 'index' значение исследуемого столбца 'purpose_category'\n",
    "table_purpose_category_affect_debt = data.pivot_table(index = 'purpose_category', values = 'debt', aggfunc = ['count', 'sum', 'mean'])\n",
    "\n",
    "#удалим в названии столбцов первый индекс, а затем сбросим нумерацию индексов в строках\n",
    "table_purpose_category_affect_debt = table_purpose_category_affect_debt.droplevel(1, axis=1).reset_index()\n",
    "\n",
    "#переименуем столбец 'mean' в 'ratio, %'\n",
    "table_purpose_category_affect_debt=table_purpose_category_affect_debt.\\\n",
    "    rename(columns={'family_status':'family_status', 'count':'credits', 'sum':'debts', 'mean':'ratio, %'})\n",
    "\n",
    "#переведем значения столбца 'mean' в проценты с 2 знаками после запятой\n",
    "table_purpose_category_affect_debt['ratio, %']=table_purpose_category_affect_debt['ratio, %']*100\n",
    "table_purpose_category_affect_debt['ratio, %']=round(table_purpose_category_affect_debt['ratio, %'],2)\n",
    "\n",
    "#выведем результат на экран, отсортировав данные по столбцу 'debts' в обратном порядке для оценки сбалансированности выборки\n",
    "display(table_purpose_category_affect_debt.sort_values(by='debts',ascending=False))"
   ]
  },
  {
   "cell_type": "code",
   "execution_count": null,
   "id": "56359d40",
   "metadata": {},
   "outputs": [
    {
     "data": {
      "image/png": "[encoded data removed]",
      "text/plain": [
       "<Figure size 640x480 with 1 Axes>"
      ]
     },
     "metadata": {},
     "output_type": "display_data"
    }
   ],
   "source": [
    "#выведем результат ан экран в виде столбчатой диаграммы для большей наглядности\n",
    "graf_purpose_category_affect_debt = sb.barplot(data=table_purpose_category_affect_debt, x ='ratio, %', y='purpose_category')\n",
    "\n",
    "#используя функцию выводим значения на каждом столбце\n",
    "show_values(graf_purpose_category_affect_debt, \"h\", space=0)"
   ]
  },
  {
   "cell_type": "markdown",
   "id": "cf05ed63",
   "metadata": {
    "deletable": false,
    "id": "cf05ed63"
   },
   "source": [
    "**Вывод:** Наиболее рискованными являются кредиты выданные для операций с автомобилем и получение образования. Доля просрочек 9,3% и 9,2% соответственно. Наименьшее количество просрочек было по кредитам взятым на \"операции с недвижимостью\" всего 7,3%. Доля просрочек для кредитов выданнх на проведение свадьбы составила 7,9%."
   ]
  },
  {
   "cell_type": "markdown",
   "id": "46c1f10b",
   "metadata": {
    "deletable": false,
    "editable": false,
    "id": "46c1f10b"
   },
   "source": [
    "#### 3.5 Приведите возможные причины появления пропусков в исходных данных."
   ]
  },
  {
   "cell_type": "markdown",
   "id": "3697d2a9",
   "metadata": {
    "deletable": false,
    "id": "3697d2a9"
   },
   "source": [
    "*Ответ:* Пропуски в исходных данных возможны по нескольким причинам. Первая техническая, например при выгрузке базы данных. Вторая человеческий фактор. При формировании данных людьми возможны опечатки либо пропуски по невнимательности, или ошибка в типе данных."
   ]
  },
  {
   "cell_type": "markdown",
   "id": "3137d257",
   "metadata": {
    "deletable": false,
    "editable": false,
    "id": "3137d257"
   },
   "source": [
    "#### 3.6 Объясните, почему заполнить пропуски медианным значением — лучшее решение для количественных переменных."
   ]
  },
  {
   "cell_type": "markdown",
   "id": "cf40012a",
   "metadata": {
    "deletable": false,
    "id": "cf40012a"
   },
   "source": [
    "*Ответ:* Медианные значения для количественных переменных позволяют уменьшить влияние экстремальных значений встречающихся в данных."
   ]
  },
  {
   "cell_type": "markdown",
   "id": "57bc304e",
   "metadata": {
    "deletable": false,
    "editable": false,
    "id": "57bc304e"
   },
   "source": [
    "### Шаг 4: общий вывод."
   ]
  },
  {
   "cell_type": "markdown",
   "id": "3c4a8023",
   "metadata": {},
   "source": [
    "Перед нами стояла задача по **обнаружению возможной взаимосвязи** между надежностью заемщиков (выраженной в наличии/отсутствии просрочки при выплате кредита) и таких их характеристик как:  \n",
    "- уровень дохода,  \n",
    "- семейный статус,  \n",
    "- количество детей,  \n",
    "- тип занятости.\n",
    "  \n",
    "Целью является оптимизация скоринговой системы банка используемой для оценки заемщика при получении кредита.\n",
    "  \n",
    "В исходном датафрейме были представлены данные по 21 252 заемщикам.В процессе предобработки данных определено, что пропуски по составили 10%. Пропущенные данные количественного типа поэтому замена была проведена на медианные значения для соответствующего типа занятости, как параметра, оказывающего наибольшее влияние на получаемый доход. Также был оптимизирован ряд данный путем приведения к наиболее оптимальному типу для количественного значения - 'int' и заменой на модуль для данных в столбце 'days_employed'. Также выявлены аномальные значения в столбце 'children' которые были удалены. Количество строк дубликатов составило 71 что менее чем 0,03% что не оказало влияния на итоговый результат. Кроме того, исходя из целей была проведена работа по категоризации данных об уровне дохода (6 диапазонов) и целей взятия кредита (4 диапазоно), что позволит более точно определить желаемые параметры надежности заемщиков.При этом в ходе анализа выявлена *не достаточная сбалансированность выборки*, что для многих категорий не позволило сделать достоверных выводов.\n",
    "\n",
    "**В результате исследования установлено следующее:**  \n",
    "  \n",
    "Существует **зависимость** между **наличием детей** и возвратом кредита в срок: ***бездетные*** заемщики являются *более дисциплинированными,* доля просрочки у них самая низкая всего ***7,54%,*** при этом *количество детей не оказывает сильного влияния* на наличие просрочки которая составляет от *9,23%* для семей с одним ребенком до *9,45%* для семей с двумя детьми. К сожалению, в данной выборке не достаточно данных для оценки ключевого параметра у семей с большим количеством делей, данных по ним слишком мало. При этом для некоторых категорий (семьи имеющие  5 детей) вообще отсутствую просрочки по оплате кредита, а для семей с 3 детьми этот показатель 8,18%. Рекомендуем сделать более абширную выборку по этим категориям, как потенциально интересным для более точного определения надежности.  \n",
    "  \n",
    "При изучении **корреляции** между **семейным положением** и количеством просрочек выявлено, что *наиболее предпочтительными* заемщиками являются ***женатые/замужние***, для которых дола просрочки составляет ***7,6%*** что на 1,75% пункта меньше чем у заемщиков проживающих в *гражданском браке* для которых этот показатель составил 9,31%, у *холостых* же он еще выше и составляет уже 9,8%. При этом для остальных категорий сделать какие-либо значимые выводы не представляется возможным по причине малого количества данных. Хотя для имеющихся данных показатели даже лучше чем у лидеров категории (семейных) и составляет только 6,6%.\n",
    "  \n",
    "При рассмотрении выборки на предмет влияния ***уровня дохода*** на наличие просрочек выявлено, что ключевой показатель имеет наименьшее значение у клиентов относящиеся к ***категории \"В\" с уровнем дохода от 200 001 до 1 000 000 руб.*** с показателем просрочки ***7,06%*** за ними, с отрывом в 1,44% пункта, следуют клиенты категории \"С\" с уровнем дохода от 50 001 – 200 000 для которых дола просрочку уже составила 8,5%. По остальным категориям нет необходимого количества данных.  \n",
    "  \n",
    "Еще одним фактором, для которого была проедена работа по выявлению его влияния на дисциплину возврата кредита, является ***цель получения*** кредитных средств. Нами была проведена работа по категоризации целей по четырем группам для более информативного результата. Оказалось что наиболее ответственно к выплате кредита подходят клиенты, берущие его для **операций с недвижимостью,** доля просрочки составила **7,26%**, далее следуют клиенты, взявшие кредит для проведения свадьбы с показателем 7,91%, при этом аутсайдерами, с небольшим отрывом, являются операции с автомобилем и получение образования 9,25% и 9,35% соответственно.\n",
    "  \n",
    "Таким образом при настройке скоринговой системы следует **отдавать предпочтение заёмщикам не имеющими детей, находящимся в браке, имеющими доход от 200 000 до 1 000 000 руб. и планирующих использовать кредитные средства для операций с недвижимостью.**  \n",
    "  \n",
    "Для улучшения качества собираемых данных в случае сбора через электронную форму следует применить маски при вводе значений, что позволит избежать части аномальный данных. Таких как отрицательное значение в поле \"количество детей\" или \"время трудового стажа\". Если данные находятся в узком диапазоне, целесообразно применение выпадающих списков. Кроме того следует валидировать данные на достоверность. К примеру соотносить возраст заемщики и указываемый стаж. Кроме того следует уделить внимание получению более сбалансированных данных по категориям для получения достоверных выводов. В части категорий показатели обнадеживающие, но не хватает данных для достоверный выводов.\n",
    "\n",
    "\n"
   ]
  }
 ],
 "metadata": {
  "ExecuteTimeLog": [
   {
    "duration": 494,
    "start_time": "2023-02-11T08:28:29.689Z"
   },
   {
    "duration": 36,
    "start_time": "2023-02-11T08:28:30.185Z"
   },
   {
    "duration": 25,
    "start_time": "2023-02-11T08:28:30.224Z"
   },
   {
    "duration": 25,
    "start_time": "2023-02-11T08:28:30.252Z"
   },
   {
    "duration": 79,
    "start_time": "2023-02-11T08:28:30.279Z"
   },
   {
    "duration": 93,
    "start_time": "2023-02-11T08:28:30.360Z"
   },
   {
    "duration": 28,
    "start_time": "2023-02-11T08:28:30.455Z"
   },
   {
    "duration": 11,
    "start_time": "2023-02-11T08:28:30.485Z"
   },
   {
    "duration": 50,
    "start_time": "2023-02-11T08:28:30.498Z"
   },
   {
    "duration": 38,
    "start_time": "2023-02-11T08:28:30.549Z"
   },
   {
    "duration": 74,
    "start_time": "2023-02-11T08:28:30.589Z"
   },
   {
    "duration": 9,
    "start_time": "2023-02-11T08:28:30.665Z"
   },
   {
    "duration": 37,
    "start_time": "2023-02-11T08:28:30.676Z"
   },
   {
    "duration": 32,
    "start_time": "2023-02-11T08:28:30.716Z"
   },
   {
    "duration": 37,
    "start_time": "2023-02-11T08:28:30.750Z"
   },
   {
    "duration": 31,
    "start_time": "2023-02-11T08:28:30.789Z"
   },
   {
    "duration": 28,
    "start_time": "2023-02-11T08:28:30.821Z"
   },
   {
    "duration": 29,
    "start_time": "2023-02-11T08:28:30.850Z"
   },
   {
    "duration": 66,
    "start_time": "2023-02-11T08:28:30.881Z"
   },
   {
    "duration": 24,
    "start_time": "2023-02-11T08:28:30.949Z"
   },
   {
    "duration": 16,
    "start_time": "2023-02-11T08:28:30.975Z"
   },
   {
    "duration": 32,
    "start_time": "2023-02-11T08:28:30.993Z"
   },
   {
    "duration": 17,
    "start_time": "2023-02-11T08:28:31.026Z"
   },
   {
    "duration": 14,
    "start_time": "2023-02-11T08:28:31.045Z"
   },
   {
    "duration": 67,
    "start_time": "2023-02-11T08:28:31.061Z"
   },
   {
    "duration": 13,
    "start_time": "2023-02-11T08:28:40.918Z"
   },
   {
    "duration": 6,
    "start_time": "2023-02-11T08:31:32.857Z"
   },
   {
    "duration": 9,
    "start_time": "2023-02-11T08:31:56.706Z"
   },
   {
    "duration": 95,
    "start_time": "2023-02-11T08:32:19.718Z"
   },
   {
    "duration": 8,
    "start_time": "2023-02-11T08:32:24.912Z"
   },
   {
    "duration": 7,
    "start_time": "2023-02-11T08:32:37.652Z"
   },
   {
    "duration": 30,
    "start_time": "2023-02-11T08:37:07.487Z"
   },
   {
    "duration": 9,
    "start_time": "2023-02-11T08:37:47.887Z"
   },
   {
    "duration": 32,
    "start_time": "2023-02-11T08:38:15.228Z"
   },
   {
    "duration": 10,
    "start_time": "2023-02-11T08:38:24.854Z"
   },
   {
    "duration": 13,
    "start_time": "2023-02-11T08:39:06.793Z"
   },
   {
    "duration": 13,
    "start_time": "2023-02-11T08:39:39.464Z"
   },
   {
    "duration": 15,
    "start_time": "2023-02-11T08:41:17.658Z"
   },
   {
    "duration": 457,
    "start_time": "2023-02-11T08:41:26.743Z"
   },
   {
    "duration": 34,
    "start_time": "2023-02-11T08:41:27.202Z"
   },
   {
    "duration": 27,
    "start_time": "2023-02-11T08:41:27.238Z"
   },
   {
    "duration": 15,
    "start_time": "2023-02-11T08:41:27.267Z"
   },
   {
    "duration": 57,
    "start_time": "2023-02-11T08:41:27.284Z"
   },
   {
    "duration": 4,
    "start_time": "2023-02-11T08:41:27.343Z"
   },
   {
    "duration": 11,
    "start_time": "2023-02-11T08:41:27.349Z"
   },
   {
    "duration": 6,
    "start_time": "2023-02-11T08:41:27.362Z"
   },
   {
    "duration": 38,
    "start_time": "2023-02-11T08:41:27.369Z"
   },
   {
    "duration": 17,
    "start_time": "2023-02-11T08:41:27.413Z"
   },
   {
    "duration": 37,
    "start_time": "2023-02-11T08:41:27.432Z"
   },
   {
    "duration": 11,
    "start_time": "2023-02-11T08:41:27.471Z"
   },
   {
    "duration": 4,
    "start_time": "2023-02-11T08:41:27.484Z"
   },
   {
    "duration": 23,
    "start_time": "2023-02-11T08:41:27.503Z"
   },
   {
    "duration": 29,
    "start_time": "2023-02-11T08:41:27.527Z"
   },
   {
    "duration": 18,
    "start_time": "2023-02-11T08:41:27.557Z"
   },
   {
    "duration": 4,
    "start_time": "2023-02-11T08:41:27.577Z"
   },
   {
    "duration": 64,
    "start_time": "2023-02-11T08:41:27.583Z"
   },
   {
    "duration": 36,
    "start_time": "2023-02-11T08:41:27.652Z"
   },
   {
    "duration": 4,
    "start_time": "2023-02-11T08:41:27.690Z"
   },
   {
    "duration": 18,
    "start_time": "2023-02-11T08:41:27.696Z"
   },
   {
    "duration": 32,
    "start_time": "2023-02-11T08:41:27.720Z"
   },
   {
    "duration": 15,
    "start_time": "2023-02-11T08:41:27.754Z"
   },
   {
    "duration": 11,
    "start_time": "2023-02-11T08:41:27.772Z"
   },
   {
    "duration": 32,
    "start_time": "2023-02-11T08:41:27.786Z"
   },
   {
    "duration": 13,
    "start_time": "2023-02-11T08:41:27.821Z"
   },
   {
    "duration": 29,
    "start_time": "2023-02-11T08:42:51.753Z"
   },
   {
    "duration": 10,
    "start_time": "2023-02-11T08:43:05.901Z"
   },
   {
    "duration": 9,
    "start_time": "2023-02-11T08:43:53.009Z"
   },
   {
    "duration": 5,
    "start_time": "2023-02-11T08:44:05.648Z"
   },
   {
    "duration": 75,
    "start_time": "2023-02-11T08:48:11.116Z"
   },
   {
    "duration": 522,
    "start_time": "2023-02-11T08:48:36.809Z"
   },
   {
    "duration": 25,
    "start_time": "2023-02-11T08:48:37.333Z"
   },
   {
    "duration": 18,
    "start_time": "2023-02-11T08:48:37.359Z"
   },
   {
    "duration": 45,
    "start_time": "2023-02-11T08:48:37.379Z"
   },
   {
    "duration": 36,
    "start_time": "2023-02-11T08:48:37.426Z"
   },
   {
    "duration": 3,
    "start_time": "2023-02-11T08:48:37.464Z"
   },
   {
    "duration": 15,
    "start_time": "2023-02-11T08:48:37.469Z"
   },
   {
    "duration": 6,
    "start_time": "2023-02-11T08:48:37.487Z"
   },
   {
    "duration": 16,
    "start_time": "2023-02-11T08:48:37.503Z"
   },
   {
    "duration": 5,
    "start_time": "2023-02-11T08:48:37.523Z"
   },
   {
    "duration": 34,
    "start_time": "2023-02-11T08:48:37.530Z"
   },
   {
    "duration": 9,
    "start_time": "2023-02-11T08:48:37.566Z"
   },
   {
    "duration": 11,
    "start_time": "2023-02-11T08:48:37.577Z"
   },
   {
    "duration": 28,
    "start_time": "2023-02-11T08:48:37.590Z"
   },
   {
    "duration": 26,
    "start_time": "2023-02-11T08:48:37.620Z"
   },
   {
    "duration": 24,
    "start_time": "2023-02-11T08:48:37.648Z"
   },
   {
    "duration": 4,
    "start_time": "2023-02-11T08:48:37.674Z"
   },
   {
    "duration": 36,
    "start_time": "2023-02-11T08:48:37.679Z"
   },
   {
    "duration": 14,
    "start_time": "2023-02-11T08:48:37.716Z"
   },
   {
    "duration": 4,
    "start_time": "2023-02-11T08:48:37.733Z"
   },
   {
    "duration": 14,
    "start_time": "2023-02-11T08:48:37.739Z"
   },
   {
    "duration": 15,
    "start_time": "2023-02-11T08:48:37.755Z"
   },
   {
    "duration": 12,
    "start_time": "2023-02-11T08:48:37.772Z"
   },
   {
    "duration": 22,
    "start_time": "2023-02-11T08:48:37.785Z"
   },
   {
    "duration": 18,
    "start_time": "2023-02-11T08:48:37.814Z"
   },
   {
    "duration": 12,
    "start_time": "2023-02-11T08:48:37.834Z"
   },
   {
    "duration": 9,
    "start_time": "2023-02-11T08:48:37.847Z"
   },
   {
    "duration": 9,
    "start_time": "2023-02-11T08:48:37.859Z"
   },
   {
    "duration": 10,
    "start_time": "2023-02-11T08:48:37.869Z"
   },
   {
    "duration": 79,
    "start_time": "2023-02-11T08:48:42.297Z"
   },
   {
    "duration": 9,
    "start_time": "2023-02-11T08:49:12.541Z"
   },
   {
    "duration": 14,
    "start_time": "2023-02-11T08:50:13.561Z"
   },
   {
    "duration": 20,
    "start_time": "2023-02-11T08:50:17.391Z"
   },
   {
    "duration": 26,
    "start_time": "2023-02-11T08:50:24.994Z"
   },
   {
    "duration": 1059,
    "start_time": "2023-02-11T08:52:48.768Z"
   },
   {
    "duration": 5,
    "start_time": "2023-02-11T08:53:36.516Z"
   },
   {
    "duration": 6,
    "start_time": "2023-02-11T08:53:47.092Z"
   },
   {
    "duration": 7,
    "start_time": "2023-02-11T08:54:05.492Z"
   },
   {
    "duration": 4,
    "start_time": "2023-02-11T08:54:45.139Z"
   },
   {
    "duration": 79,
    "start_time": "2023-02-11T08:54:55.027Z"
   },
   {
    "duration": 22,
    "start_time": "2023-02-11T08:55:11.130Z"
   },
   {
    "duration": 11,
    "start_time": "2023-02-11T08:55:26.320Z"
   },
   {
    "duration": 448,
    "start_time": "2023-02-11T08:55:41.761Z"
   },
   {
    "duration": 26,
    "start_time": "2023-02-11T08:55:42.217Z"
   },
   {
    "duration": 17,
    "start_time": "2023-02-11T08:55:42.245Z"
   },
   {
    "duration": 10,
    "start_time": "2023-02-11T08:55:42.265Z"
   },
   {
    "duration": 50,
    "start_time": "2023-02-11T08:55:42.276Z"
   },
   {
    "duration": 3,
    "start_time": "2023-02-11T08:55:42.328Z"
   },
   {
    "duration": 10,
    "start_time": "2023-02-11T08:55:42.333Z"
   },
   {
    "duration": 5,
    "start_time": "2023-02-11T08:55:42.345Z"
   },
   {
    "duration": 29,
    "start_time": "2023-02-11T08:55:42.352Z"
   },
   {
    "duration": 8,
    "start_time": "2023-02-11T08:55:42.384Z"
   },
   {
    "duration": 47,
    "start_time": "2023-02-11T08:55:42.394Z"
   },
   {
    "duration": 10,
    "start_time": "2023-02-11T08:55:42.443Z"
   },
   {
    "duration": 10,
    "start_time": "2023-02-11T08:55:42.455Z"
   },
   {
    "duration": 21,
    "start_time": "2023-02-11T08:55:42.466Z"
   },
   {
    "duration": 28,
    "start_time": "2023-02-11T08:55:42.503Z"
   },
   {
    "duration": 19,
    "start_time": "2023-02-11T08:55:42.533Z"
   },
   {
    "duration": 4,
    "start_time": "2023-02-11T08:55:42.554Z"
   },
   {
    "duration": 11,
    "start_time": "2023-02-11T08:55:42.560Z"
   },
   {
    "duration": 35,
    "start_time": "2023-02-11T08:55:42.574Z"
   },
   {
    "duration": 21,
    "start_time": "2023-02-11T08:55:42.611Z"
   },
   {
    "duration": 17,
    "start_time": "2023-02-11T08:55:42.634Z"
   },
   {
    "duration": 32,
    "start_time": "2023-02-11T08:55:42.653Z"
   },
   {
    "duration": 13,
    "start_time": "2023-02-11T08:55:42.686Z"
   },
   {
    "duration": 25,
    "start_time": "2023-02-11T08:55:42.700Z"
   },
   {
    "duration": 948,
    "start_time": "2023-02-11T08:55:42.727Z"
   },
   {
    "duration": 0,
    "start_time": "2023-02-11T08:55:43.677Z"
   },
   {
    "duration": 0,
    "start_time": "2023-02-11T08:55:43.678Z"
   },
   {
    "duration": 0,
    "start_time": "2023-02-11T08:55:43.681Z"
   },
   {
    "duration": 0,
    "start_time": "2023-02-11T08:55:43.682Z"
   },
   {
    "duration": 0,
    "start_time": "2023-02-11T08:55:43.683Z"
   },
   {
    "duration": 11,
    "start_time": "2023-02-11T08:56:23.212Z"
   },
   {
    "duration": 5,
    "start_time": "2023-02-11T08:56:32.428Z"
   },
   {
    "duration": 12,
    "start_time": "2023-02-11T08:56:33.722Z"
   },
   {
    "duration": 5,
    "start_time": "2023-02-11T08:56:38.464Z"
   },
   {
    "duration": 139,
    "start_time": "2023-02-11T08:56:39.391Z"
   },
   {
    "duration": 6,
    "start_time": "2023-02-11T08:58:39.537Z"
   },
   {
    "duration": 8,
    "start_time": "2023-02-11T08:58:42.112Z"
   },
   {
    "duration": 2,
    "start_time": "2023-02-11T08:59:10.261Z"
   },
   {
    "duration": 3,
    "start_time": "2023-02-11T08:59:11.529Z"
   },
   {
    "duration": 121,
    "start_time": "2023-02-11T09:01:40.838Z"
   },
   {
    "duration": 141,
    "start_time": "2023-02-11T09:04:39.078Z"
   },
   {
    "duration": 350,
    "start_time": "2023-02-11T09:11:02.840Z"
   },
   {
    "duration": 327,
    "start_time": "2023-02-11T09:11:18.755Z"
   },
   {
    "duration": 403,
    "start_time": "2023-02-11T09:11:34.126Z"
   },
   {
    "duration": 21,
    "start_time": "2023-02-11T09:12:11.160Z"
   },
   {
    "duration": 20,
    "start_time": "2023-02-11T09:12:28.529Z"
   },
   {
    "duration": 317,
    "start_time": "2023-02-11T09:12:36.516Z"
   },
   {
    "duration": 341,
    "start_time": "2023-02-11T09:13:01.968Z"
   },
   {
    "duration": 21,
    "start_time": "2023-02-11T09:13:30.036Z"
   },
   {
    "duration": 22,
    "start_time": "2023-02-11T09:13:37.109Z"
   },
   {
    "duration": 111,
    "start_time": "2023-02-11T09:13:42.133Z"
   },
   {
    "duration": 15,
    "start_time": "2023-02-11T09:27:52.314Z"
   },
   {
    "duration": 11,
    "start_time": "2023-02-11T09:28:28.965Z"
   },
   {
    "duration": 74,
    "start_time": "2023-02-11T09:28:41.322Z"
   },
   {
    "duration": 9,
    "start_time": "2023-02-11T09:28:45.999Z"
   },
   {
    "duration": 10,
    "start_time": "2023-02-11T09:29:11.276Z"
   },
   {
    "duration": 16,
    "start_time": "2023-02-11T09:29:19.987Z"
   },
   {
    "duration": 17,
    "start_time": "2023-02-11T09:31:07.064Z"
   },
   {
    "duration": 26,
    "start_time": "2023-02-11T09:31:32.172Z"
   },
   {
    "duration": 23,
    "start_time": "2023-02-11T09:31:50.609Z"
   },
   {
    "duration": 504,
    "start_time": "2023-02-11T09:32:06.269Z"
   },
   {
    "duration": 22,
    "start_time": "2023-02-11T09:32:06.774Z"
   },
   {
    "duration": 16,
    "start_time": "2023-02-11T09:32:06.798Z"
   },
   {
    "duration": 10,
    "start_time": "2023-02-11T09:32:06.816Z"
   },
   {
    "duration": 38,
    "start_time": "2023-02-11T09:32:06.827Z"
   },
   {
    "duration": 3,
    "start_time": "2023-02-11T09:32:06.867Z"
   },
   {
    "duration": 11,
    "start_time": "2023-02-11T09:32:06.872Z"
   },
   {
    "duration": 21,
    "start_time": "2023-02-11T09:32:06.885Z"
   },
   {
    "duration": 19,
    "start_time": "2023-02-11T09:32:06.907Z"
   },
   {
    "duration": 5,
    "start_time": "2023-02-11T09:32:06.929Z"
   },
   {
    "duration": 38,
    "start_time": "2023-02-11T09:32:06.935Z"
   },
   {
    "duration": 9,
    "start_time": "2023-02-11T09:32:06.975Z"
   },
   {
    "duration": 4,
    "start_time": "2023-02-11T09:32:07.004Z"
   },
   {
    "duration": 15,
    "start_time": "2023-02-11T09:32:07.009Z"
   },
   {
    "duration": 19,
    "start_time": "2023-02-11T09:32:07.026Z"
   },
   {
    "duration": 18,
    "start_time": "2023-02-11T09:32:07.047Z"
   },
   {
    "duration": 4,
    "start_time": "2023-02-11T09:32:07.067Z"
   },
   {
    "duration": 34,
    "start_time": "2023-02-11T09:32:07.072Z"
   },
   {
    "duration": 13,
    "start_time": "2023-02-11T09:32:07.108Z"
   },
   {
    "duration": 25,
    "start_time": "2023-02-11T09:32:07.123Z"
   },
   {
    "duration": 14,
    "start_time": "2023-02-11T09:32:07.150Z"
   },
   {
    "duration": 13,
    "start_time": "2023-02-11T09:32:07.166Z"
   },
   {
    "duration": 20,
    "start_time": "2023-02-11T09:32:07.182Z"
   },
   {
    "duration": 777,
    "start_time": "2023-02-11T09:32:07.204Z"
   },
   {
    "duration": 129,
    "start_time": "2023-02-11T09:32:07.982Z"
   },
   {
    "duration": 30,
    "start_time": "2023-02-11T09:32:08.114Z"
   },
   {
    "duration": 6,
    "start_time": "2023-02-11T09:32:08.146Z"
   },
   {
    "duration": 8,
    "start_time": "2023-02-11T09:32:08.154Z"
   },
   {
    "duration": 41,
    "start_time": "2023-02-11T09:32:08.164Z"
   },
   {
    "duration": 9,
    "start_time": "2023-02-11T09:32:08.207Z"
   },
   {
    "duration": 11,
    "start_time": "2023-02-11T09:32:08.218Z"
   },
   {
    "duration": 108,
    "start_time": "2023-02-11T09:32:46.213Z"
   },
   {
    "duration": 21,
    "start_time": "2023-02-11T09:33:09.100Z"
   },
   {
    "duration": 24,
    "start_time": "2023-02-11T09:33:49.457Z"
   },
   {
    "duration": 11,
    "start_time": "2023-02-11T09:36:18.094Z"
   },
   {
    "duration": 14,
    "start_time": "2023-02-11T09:36:21.852Z"
   },
   {
    "duration": 88,
    "start_time": "2023-02-11T09:36:25.836Z"
   },
   {
    "duration": 10,
    "start_time": "2023-02-11T09:36:39.568Z"
   },
   {
    "duration": 101,
    "start_time": "2023-02-11T09:36:53.996Z"
   },
   {
    "duration": 26,
    "start_time": "2023-02-11T09:37:07.641Z"
   },
   {
    "duration": 16,
    "start_time": "2023-02-11T09:39:41.546Z"
   },
   {
    "duration": 8,
    "start_time": "2023-02-11T09:39:46.458Z"
   },
   {
    "duration": 11,
    "start_time": "2023-02-11T09:40:14.808Z"
   },
   {
    "duration": 16,
    "start_time": "2023-02-11T09:40:26.645Z"
   },
   {
    "duration": 11,
    "start_time": "2023-02-11T09:44:30.280Z"
   },
   {
    "duration": 15,
    "start_time": "2023-02-11T09:52:58.202Z"
   },
   {
    "duration": 100,
    "start_time": "2023-02-11T09:53:37.407Z"
   },
   {
    "duration": 120,
    "start_time": "2023-02-11T09:54:08.094Z"
   },
   {
    "duration": 11,
    "start_time": "2023-02-11T09:54:17.305Z"
   },
   {
    "duration": 118,
    "start_time": "2023-02-11T09:54:32.403Z"
   },
   {
    "duration": 86,
    "start_time": "2023-02-11T09:55:14.412Z"
   },
   {
    "duration": 6,
    "start_time": "2023-02-11T09:57:13.738Z"
   },
   {
    "duration": 7,
    "start_time": "2023-02-11T09:57:27.675Z"
   },
   {
    "duration": 84,
    "start_time": "2023-02-11T09:57:37.597Z"
   },
   {
    "duration": 9,
    "start_time": "2023-02-11T09:57:45.496Z"
   },
   {
    "duration": 6,
    "start_time": "2023-02-11T09:58:55.022Z"
   },
   {
    "duration": 7,
    "start_time": "2023-02-11T09:59:06.926Z"
   },
   {
    "duration": 6,
    "start_time": "2023-02-11T09:59:52.466Z"
   },
   {
    "duration": 8,
    "start_time": "2023-02-11T10:01:02.322Z"
   },
   {
    "duration": 5,
    "start_time": "2023-02-11T10:01:27.239Z"
   },
   {
    "duration": 11,
    "start_time": "2023-02-11T10:01:45.139Z"
   },
   {
    "duration": 86,
    "start_time": "2023-02-11T10:01:52.003Z"
   },
   {
    "duration": 7,
    "start_time": "2023-02-11T10:02:00.614Z"
   },
   {
    "duration": 5,
    "start_time": "2023-02-11T10:03:04.287Z"
   },
   {
    "duration": 6,
    "start_time": "2023-02-11T10:03:16.719Z"
   },
   {
    "duration": 17,
    "start_time": "2023-02-11T10:03:18.998Z"
   },
   {
    "duration": 81,
    "start_time": "2023-02-11T10:03:21.786Z"
   },
   {
    "duration": 6,
    "start_time": "2023-02-11T10:03:43.941Z"
   },
   {
    "duration": 19,
    "start_time": "2023-02-11T10:05:33.731Z"
   },
   {
    "duration": 91,
    "start_time": "2023-02-11T10:06:22.251Z"
   },
   {
    "duration": 10,
    "start_time": "2023-02-11T10:06:26.847Z"
   },
   {
    "duration": 6,
    "start_time": "2023-02-11T10:15:20.780Z"
   },
   {
    "duration": 8,
    "start_time": "2023-02-11T10:15:33.194Z"
   },
   {
    "duration": 22,
    "start_time": "2023-02-11T10:16:05.469Z"
   },
   {
    "duration": 397,
    "start_time": "2023-02-11T10:16:32.240Z"
   },
   {
    "duration": 1294,
    "start_time": "2023-02-11T10:20:22.556Z"
   },
   {
    "duration": 25,
    "start_time": "2023-02-11T10:20:42.850Z"
   },
   {
    "duration": 1286,
    "start_time": "2023-02-11T10:21:10.921Z"
   },
   {
    "duration": 5,
    "start_time": "2023-02-11T10:21:19.119Z"
   },
   {
    "duration": 42,
    "start_time": "2023-02-11T10:21:20.959Z"
   },
   {
    "duration": 13,
    "start_time": "2023-02-11T10:25:10.519Z"
   },
   {
    "duration": 7,
    "start_time": "2023-02-11T10:25:28.616Z"
   },
   {
    "duration": 10,
    "start_time": "2023-02-11T10:25:52.342Z"
   },
   {
    "duration": 8,
    "start_time": "2023-02-11T10:26:46.987Z"
   },
   {
    "duration": 15,
    "start_time": "2023-02-11T10:47:20.377Z"
   },
   {
    "duration": 29,
    "start_time": "2023-02-11T10:47:28.120Z"
   },
   {
    "duration": 31,
    "start_time": "2023-02-11T10:48:39.856Z"
   },
   {
    "duration": 36,
    "start_time": "2023-02-11T10:48:54.122Z"
   },
   {
    "duration": 28,
    "start_time": "2023-02-11T10:49:10.597Z"
   },
   {
    "duration": 22,
    "start_time": "2023-02-11T10:52:05.752Z"
   },
   {
    "duration": 10,
    "start_time": "2023-02-11T10:54:07.724Z"
   },
   {
    "duration": 11,
    "start_time": "2023-02-11T10:54:13.622Z"
   },
   {
    "duration": 14,
    "start_time": "2023-02-11T10:54:22.284Z"
   },
   {
    "duration": 17,
    "start_time": "2023-02-11T11:02:41.353Z"
   },
   {
    "duration": 24,
    "start_time": "2023-02-11T11:03:34.726Z"
   },
   {
    "duration": 26,
    "start_time": "2023-02-11T11:03:44.714Z"
   },
   {
    "duration": 12,
    "start_time": "2023-02-11T11:04:07.840Z"
   },
   {
    "duration": 39,
    "start_time": "2023-02-11T11:04:16.502Z"
   },
   {
    "duration": 26,
    "start_time": "2023-02-11T11:04:47.001Z"
   },
   {
    "duration": 34,
    "start_time": "2023-02-11T11:05:15.090Z"
   },
   {
    "duration": 1198,
    "start_time": "2023-02-11T11:34:51.858Z"
   },
   {
    "duration": 21,
    "start_time": "2023-02-11T11:35:53.749Z"
   },
   {
    "duration": 24,
    "start_time": "2023-02-11T11:35:56.353Z"
   },
   {
    "duration": 25,
    "start_time": "2023-02-11T11:36:20.882Z"
   },
   {
    "duration": 1205,
    "start_time": "2023-02-11T11:36:53.204Z"
   },
   {
    "duration": 1182,
    "start_time": "2023-02-11T11:37:04.097Z"
   },
   {
    "duration": 1151,
    "start_time": "2023-02-11T11:37:43.588Z"
   },
   {
    "duration": 1142,
    "start_time": "2023-02-11T11:37:50.585Z"
   },
   {
    "duration": 28,
    "start_time": "2023-02-11T11:37:54.081Z"
   },
   {
    "duration": 22,
    "start_time": "2023-02-11T11:38:08.093Z"
   },
   {
    "duration": 196,
    "start_time": "2023-02-11T11:39:53.826Z"
   },
   {
    "duration": 28,
    "start_time": "2023-02-11T11:41:26.556Z"
   },
   {
    "duration": 25,
    "start_time": "2023-02-11T11:41:44.705Z"
   },
   {
    "duration": 14,
    "start_time": "2023-02-11T11:42:37.087Z"
   },
   {
    "duration": 2,
    "start_time": "2023-02-11T11:42:49.261Z"
   },
   {
    "duration": 26,
    "start_time": "2023-02-11T11:42:54.986Z"
   },
   {
    "duration": 16,
    "start_time": "2023-02-11T11:43:05.117Z"
   },
   {
    "duration": 28,
    "start_time": "2023-02-11T11:43:30.856Z"
   },
   {
    "duration": 3,
    "start_time": "2023-02-11T11:43:52.966Z"
   },
   {
    "duration": 24,
    "start_time": "2023-02-11T11:44:05.466Z"
   },
   {
    "duration": 15,
    "start_time": "2023-02-11T11:44:08.478Z"
   },
   {
    "duration": 29,
    "start_time": "2023-02-11T11:44:25.992Z"
   },
   {
    "duration": 26,
    "start_time": "2023-02-11T11:44:31.234Z"
   },
   {
    "duration": 3,
    "start_time": "2023-02-11T11:44:34.114Z"
   },
   {
    "duration": 26,
    "start_time": "2023-02-11T11:44:35.677Z"
   },
   {
    "duration": 24,
    "start_time": "2023-02-11T11:46:35.204Z"
   },
   {
    "duration": 73,
    "start_time": "2023-02-11T11:47:04.033Z"
   },
   {
    "duration": 30,
    "start_time": "2023-02-11T11:47:07.946Z"
   },
   {
    "duration": 23,
    "start_time": "2023-02-11T12:30:50.641Z"
   },
   {
    "duration": 16,
    "start_time": "2023-02-11T12:31:16.415Z"
   },
   {
    "duration": 74,
    "start_time": "2023-02-11T12:31:27.657Z"
   },
   {
    "duration": 9,
    "start_time": "2023-02-11T12:31:49.969Z"
   },
   {
    "duration": 10,
    "start_time": "2023-02-11T12:32:54.640Z"
   },
   {
    "duration": 78,
    "start_time": "2023-02-11T12:33:27.334Z"
   },
   {
    "duration": 4,
    "start_time": "2023-02-11T12:33:54.586Z"
   },
   {
    "duration": 74,
    "start_time": "2023-02-11T12:34:22.821Z"
   },
   {
    "duration": 98,
    "start_time": "2023-02-11T12:34:29.801Z"
   },
   {
    "duration": 7,
    "start_time": "2023-02-11T12:34:43.941Z"
   },
   {
    "duration": 9,
    "start_time": "2023-02-11T12:35:09.516Z"
   },
   {
    "duration": 835,
    "start_time": "2023-02-11T19:12:13.077Z"
   },
   {
    "duration": 28,
    "start_time": "2023-02-11T19:12:13.914Z"
   },
   {
    "duration": 42,
    "start_time": "2023-02-11T19:12:13.947Z"
   },
   {
    "duration": 9,
    "start_time": "2023-02-11T19:12:13.991Z"
   },
   {
    "duration": 78,
    "start_time": "2023-02-11T19:12:14.002Z"
   },
   {
    "duration": 5,
    "start_time": "2023-02-11T19:12:14.081Z"
   },
   {
    "duration": 27,
    "start_time": "2023-02-11T19:12:14.088Z"
   },
   {
    "duration": 14,
    "start_time": "2023-02-11T19:12:14.116Z"
   },
   {
    "duration": 34,
    "start_time": "2023-02-11T19:12:14.132Z"
   },
   {
    "duration": 14,
    "start_time": "2023-02-11T19:12:14.168Z"
   },
   {
    "duration": 52,
    "start_time": "2023-02-11T19:12:14.184Z"
   },
   {
    "duration": 26,
    "start_time": "2023-02-11T19:12:14.240Z"
   },
   {
    "duration": 19,
    "start_time": "2023-02-11T19:12:14.270Z"
   },
   {
    "duration": 28,
    "start_time": "2023-02-11T19:12:14.291Z"
   },
   {
    "duration": 65,
    "start_time": "2023-02-11T19:12:14.321Z"
   },
   {
    "duration": 19,
    "start_time": "2023-02-11T19:12:14.388Z"
   },
   {
    "duration": 14,
    "start_time": "2023-02-11T19:12:14.410Z"
   },
   {
    "duration": 52,
    "start_time": "2023-02-11T19:12:14.425Z"
   },
   {
    "duration": 16,
    "start_time": "2023-02-11T19:12:14.480Z"
   },
   {
    "duration": 32,
    "start_time": "2023-02-11T19:12:14.499Z"
   },
   {
    "duration": 42,
    "start_time": "2023-02-11T19:12:14.532Z"
   },
   {
    "duration": 57,
    "start_time": "2023-02-11T19:12:14.576Z"
   },
   {
    "duration": 44,
    "start_time": "2023-02-11T19:12:14.635Z"
   },
   {
    "duration": 56,
    "start_time": "2023-02-11T19:12:14.681Z"
   },
   {
    "duration": 38,
    "start_time": "2023-02-11T19:12:14.740Z"
   },
   {
    "duration": 497,
    "start_time": "2023-02-11T19:48:52.849Z"
   },
   {
    "duration": 28,
    "start_time": "2023-02-11T19:48:53.349Z"
   },
   {
    "duration": 27,
    "start_time": "2023-02-11T19:48:53.379Z"
   },
   {
    "duration": 11,
    "start_time": "2023-02-11T19:48:53.408Z"
   },
   {
    "duration": 63,
    "start_time": "2023-02-11T19:48:53.422Z"
   },
   {
    "duration": 4,
    "start_time": "2023-02-11T19:48:53.487Z"
   },
   {
    "duration": 25,
    "start_time": "2023-02-11T19:48:53.492Z"
   },
   {
    "duration": 14,
    "start_time": "2023-02-11T19:48:53.519Z"
   },
   {
    "duration": 24,
    "start_time": "2023-02-11T19:48:53.535Z"
   },
   {
    "duration": 21,
    "start_time": "2023-02-11T19:48:53.562Z"
   },
   {
    "duration": 48,
    "start_time": "2023-02-11T19:48:53.585Z"
   },
   {
    "duration": 13,
    "start_time": "2023-02-11T19:48:53.635Z"
   },
   {
    "duration": 28,
    "start_time": "2023-02-11T19:48:53.651Z"
   },
   {
    "duration": 21,
    "start_time": "2023-02-11T19:48:53.682Z"
   },
   {
    "duration": 53,
    "start_time": "2023-02-11T19:48:53.705Z"
   },
   {
    "duration": 23,
    "start_time": "2023-02-11T19:48:53.761Z"
   },
   {
    "duration": 11,
    "start_time": "2023-02-11T19:48:53.785Z"
   },
   {
    "duration": 36,
    "start_time": "2023-02-11T19:48:53.798Z"
   },
   {
    "duration": 26,
    "start_time": "2023-02-11T19:48:53.836Z"
   },
   {
    "duration": 27,
    "start_time": "2023-02-11T19:48:53.864Z"
   },
   {
    "duration": 11,
    "start_time": "2023-02-11T19:48:53.893Z"
   },
   {
    "duration": 33,
    "start_time": "2023-02-11T19:48:53.906Z"
   },
   {
    "duration": 34,
    "start_time": "2023-02-11T19:48:53.941Z"
   },
   {
    "duration": 27,
    "start_time": "2023-02-11T19:48:53.976Z"
   },
   {
    "duration": 52,
    "start_time": "2023-02-11T19:48:54.004Z"
   },
   {
    "duration": 453,
    "start_time": "2023-02-11T19:53:05.597Z"
   },
   {
    "duration": 23,
    "start_time": "2023-02-11T19:53:06.052Z"
   },
   {
    "duration": 25,
    "start_time": "2023-02-11T19:53:06.077Z"
   },
   {
    "duration": 18,
    "start_time": "2023-02-11T19:53:06.104Z"
   },
   {
    "duration": 38,
    "start_time": "2023-02-11T19:53:06.124Z"
   },
   {
    "duration": 6,
    "start_time": "2023-02-11T19:53:06.164Z"
   },
   {
    "duration": 12,
    "start_time": "2023-02-11T19:53:06.171Z"
   },
   {
    "duration": 7,
    "start_time": "2023-02-11T19:53:06.184Z"
   },
   {
    "duration": 10,
    "start_time": "2023-02-11T19:53:06.192Z"
   },
   {
    "duration": 4,
    "start_time": "2023-02-11T19:53:06.204Z"
   },
   {
    "duration": 48,
    "start_time": "2023-02-11T19:53:06.209Z"
   },
   {
    "duration": 9,
    "start_time": "2023-02-11T19:53:06.259Z"
   },
   {
    "duration": 6,
    "start_time": "2023-02-11T19:53:06.270Z"
   },
   {
    "duration": 19,
    "start_time": "2023-02-11T19:53:06.277Z"
   },
   {
    "duration": 22,
    "start_time": "2023-02-11T19:53:06.297Z"
   },
   {
    "duration": 30,
    "start_time": "2023-02-11T19:53:06.321Z"
   },
   {
    "duration": 4,
    "start_time": "2023-02-11T19:53:06.353Z"
   },
   {
    "duration": 12,
    "start_time": "2023-02-11T19:53:06.358Z"
   },
   {
    "duration": 11,
    "start_time": "2023-02-11T19:53:06.372Z"
   },
   {
    "duration": 6,
    "start_time": "2023-02-11T19:53:06.384Z"
   },
   {
    "duration": 12,
    "start_time": "2023-02-11T19:53:06.391Z"
   },
   {
    "duration": 45,
    "start_time": "2023-02-11T19:53:06.404Z"
   },
   {
    "duration": 27,
    "start_time": "2023-02-11T19:53:06.450Z"
   },
   {
    "duration": 27,
    "start_time": "2023-02-11T19:53:06.479Z"
   },
   {
    "duration": 46,
    "start_time": "2023-02-11T19:53:06.508Z"
   },
   {
    "duration": 66,
    "start_time": "2023-02-12T13:39:57.944Z"
   },
   {
    "duration": 45,
    "start_time": "2023-02-13T06:56:52.768Z"
   },
   {
    "duration": 9,
    "start_time": "2023-02-13T06:57:02.514Z"
   },
   {
    "duration": 684,
    "start_time": "2023-02-13T06:57:09.407Z"
   },
   {
    "duration": 21,
    "start_time": "2023-02-13T06:57:10.094Z"
   },
   {
    "duration": 15,
    "start_time": "2023-02-13T06:57:10.116Z"
   },
   {
    "duration": 15,
    "start_time": "2023-02-13T06:57:10.134Z"
   },
   {
    "duration": 34,
    "start_time": "2023-02-13T06:57:10.150Z"
   },
   {
    "duration": 4,
    "start_time": "2023-02-13T06:57:10.185Z"
   },
   {
    "duration": 11,
    "start_time": "2023-02-13T06:57:10.190Z"
   },
   {
    "duration": 4,
    "start_time": "2023-02-13T06:57:10.202Z"
   },
   {
    "duration": 8,
    "start_time": "2023-02-13T06:57:10.208Z"
   },
   {
    "duration": 31,
    "start_time": "2023-02-13T06:57:10.219Z"
   },
   {
    "duration": 37,
    "start_time": "2023-02-13T06:57:10.251Z"
   },
   {
    "duration": 9,
    "start_time": "2023-02-13T06:57:10.289Z"
   },
   {
    "duration": 9,
    "start_time": "2023-02-13T06:57:10.299Z"
   },
   {
    "duration": 14,
    "start_time": "2023-02-13T06:57:10.309Z"
   },
   {
    "duration": 35,
    "start_time": "2023-02-13T06:57:10.324Z"
   },
   {
    "duration": 17,
    "start_time": "2023-02-13T06:57:10.360Z"
   },
   {
    "duration": 4,
    "start_time": "2023-02-13T06:57:10.378Z"
   },
   {
    "duration": 21,
    "start_time": "2023-02-13T06:57:10.383Z"
   },
   {
    "duration": 17,
    "start_time": "2023-02-13T06:57:10.406Z"
   },
   {
    "duration": 5,
    "start_time": "2023-02-13T06:57:10.424Z"
   },
   {
    "duration": 20,
    "start_time": "2023-02-13T06:57:10.430Z"
   },
   {
    "duration": 29,
    "start_time": "2023-02-13T06:57:10.452Z"
   },
   {
    "duration": 29,
    "start_time": "2023-02-13T06:57:10.482Z"
   },
   {
    "duration": 46,
    "start_time": "2023-02-13T06:57:10.512Z"
   },
   {
    "duration": 27,
    "start_time": "2023-02-13T06:57:10.560Z"
   },
   {
    "duration": 23,
    "start_time": "2023-02-13T07:00:24.594Z"
   },
   {
    "duration": 78,
    "start_time": "2023-02-13T07:05:05.566Z"
   },
   {
    "duration": 33,
    "start_time": "2023-02-13T07:05:24.800Z"
   },
   {
    "duration": 25,
    "start_time": "2023-02-13T07:12:14.719Z"
   },
   {
    "duration": 28,
    "start_time": "2023-02-13T07:12:41.269Z"
   },
   {
    "duration": 62,
    "start_time": "2023-02-13T07:13:09.663Z"
   },
   {
    "duration": 23,
    "start_time": "2023-02-13T07:16:10.925Z"
   },
   {
    "duration": 53,
    "start_time": "2023-02-13T07:21:48.411Z"
   },
   {
    "duration": 7,
    "start_time": "2023-02-13T07:42:50.664Z"
   },
   {
    "duration": 69,
    "start_time": "2023-02-13T07:49:23.136Z"
   },
   {
    "duration": 3,
    "start_time": "2023-02-13T07:49:29.968Z"
   },
   {
    "duration": 74,
    "start_time": "2023-02-13T07:50:23.095Z"
   },
   {
    "duration": 10,
    "start_time": "2023-02-13T07:52:54.749Z"
   },
   {
    "duration": 14,
    "start_time": "2023-02-13T07:53:08.756Z"
   },
   {
    "duration": 11,
    "start_time": "2023-02-13T07:53:13.192Z"
   },
   {
    "duration": 9,
    "start_time": "2023-02-13T07:55:56.611Z"
   },
   {
    "duration": 10,
    "start_time": "2023-02-13T07:56:59.235Z"
   },
   {
    "duration": 7,
    "start_time": "2023-02-13T07:59:13.134Z"
   },
   {
    "duration": 47,
    "start_time": "2023-02-13T07:59:20.345Z"
   },
   {
    "duration": 11,
    "start_time": "2023-02-13T07:59:28.111Z"
   },
   {
    "duration": 11,
    "start_time": "2023-02-13T07:59:38.333Z"
   },
   {
    "duration": 22,
    "start_time": "2023-02-13T08:00:10.965Z"
   },
   {
    "duration": 7,
    "start_time": "2023-02-13T08:00:30.849Z"
   },
   {
    "duration": 25,
    "start_time": "2023-02-13T08:00:51.603Z"
   },
   {
    "duration": 33,
    "start_time": "2023-02-13T08:01:27.103Z"
   },
   {
    "duration": 15,
    "start_time": "2023-02-13T08:01:39.401Z"
   },
   {
    "duration": 25,
    "start_time": "2023-02-13T08:01:44.701Z"
   },
   {
    "duration": 15,
    "start_time": "2023-02-13T08:01:49.495Z"
   },
   {
    "duration": 25,
    "start_time": "2023-02-13T08:02:01.889Z"
   },
   {
    "duration": 421,
    "start_time": "2023-02-13T08:06:03.168Z"
   },
   {
    "duration": 85,
    "start_time": "2023-02-13T08:06:03.591Z"
   },
   {
    "duration": 26,
    "start_time": "2023-02-13T08:06:03.678Z"
   },
   {
    "duration": 17,
    "start_time": "2023-02-13T08:06:03.706Z"
   },
   {
    "duration": 29,
    "start_time": "2023-02-13T08:06:03.725Z"
   },
   {
    "duration": 40,
    "start_time": "2023-02-13T08:06:03.756Z"
   },
   {
    "duration": 49,
    "start_time": "2023-02-13T08:06:03.798Z"
   },
   {
    "duration": 4,
    "start_time": "2023-02-13T08:06:03.849Z"
   },
   {
    "duration": 15,
    "start_time": "2023-02-13T08:06:03.855Z"
   },
   {
    "duration": 8,
    "start_time": "2023-02-13T08:06:03.871Z"
   },
   {
    "duration": 8,
    "start_time": "2023-02-13T08:06:03.881Z"
   },
   {
    "duration": 61,
    "start_time": "2023-02-13T08:06:03.891Z"
   },
   {
    "duration": 4,
    "start_time": "2023-02-13T08:06:03.954Z"
   },
   {
    "duration": 41,
    "start_time": "2023-02-13T08:06:03.962Z"
   },
   {
    "duration": 10,
    "start_time": "2023-02-13T08:06:04.004Z"
   },
   {
    "duration": 33,
    "start_time": "2023-02-13T08:06:04.016Z"
   },
   {
    "duration": 14,
    "start_time": "2023-02-13T08:06:04.051Z"
   },
   {
    "duration": 24,
    "start_time": "2023-02-13T08:06:04.066Z"
   },
   {
    "duration": 17,
    "start_time": "2023-02-13T08:06:04.092Z"
   },
   {
    "duration": 3,
    "start_time": "2023-02-13T08:06:04.111Z"
   },
   {
    "duration": 40,
    "start_time": "2023-02-13T08:06:04.116Z"
   },
   {
    "duration": 8,
    "start_time": "2023-02-13T08:06:04.158Z"
   },
   {
    "duration": 4,
    "start_time": "2023-02-13T08:06:04.168Z"
   },
   {
    "duration": 14,
    "start_time": "2023-02-13T08:06:04.173Z"
   },
   {
    "duration": 28,
    "start_time": "2023-02-13T08:06:04.189Z"
   },
   {
    "duration": 47,
    "start_time": "2023-02-13T08:06:04.218Z"
   },
   {
    "duration": 31,
    "start_time": "2023-02-13T08:06:04.267Z"
   },
   {
    "duration": 57,
    "start_time": "2023-02-13T08:06:04.299Z"
   },
   {
    "duration": 46,
    "start_time": "2023-02-13T08:06:04.358Z"
   },
   {
    "duration": 38,
    "start_time": "2023-02-13T08:10:32.898Z"
   },
   {
    "duration": 54,
    "start_time": "2023-02-13T08:12:36.366Z"
   },
   {
    "duration": 25,
    "start_time": "2023-02-13T08:12:55.543Z"
   },
   {
    "duration": 7,
    "start_time": "2023-02-13T08:20:47.471Z"
   },
   {
    "duration": 13,
    "start_time": "2023-02-13T08:32:04.503Z"
   },
   {
    "duration": 14,
    "start_time": "2023-02-13T08:32:29.753Z"
   },
   {
    "duration": 7,
    "start_time": "2023-02-13T08:32:50.910Z"
   },
   {
    "duration": 11,
    "start_time": "2023-02-13T08:32:53.235Z"
   },
   {
    "duration": 81,
    "start_time": "2023-02-13T08:36:09.628Z"
   },
   {
    "duration": 12,
    "start_time": "2023-02-13T08:36:14.486Z"
   },
   {
    "duration": 12,
    "start_time": "2023-02-13T08:36:20.374Z"
   },
   {
    "duration": 12,
    "start_time": "2023-02-13T08:36:46.737Z"
   },
   {
    "duration": 13,
    "start_time": "2023-02-13T08:36:54.202Z"
   },
   {
    "duration": 12,
    "start_time": "2023-02-13T08:37:01.518Z"
   },
   {
    "duration": 413,
    "start_time": "2023-02-13T08:37:14.958Z"
   },
   {
    "duration": 76,
    "start_time": "2023-02-13T08:37:15.373Z"
   },
   {
    "duration": 21,
    "start_time": "2023-02-13T08:37:15.451Z"
   },
   {
    "duration": 16,
    "start_time": "2023-02-13T08:37:15.474Z"
   },
   {
    "duration": 9,
    "start_time": "2023-02-13T08:37:15.492Z"
   },
   {
    "duration": 11,
    "start_time": "2023-02-13T08:37:15.503Z"
   },
   {
    "duration": 57,
    "start_time": "2023-02-13T08:37:15.515Z"
   },
   {
    "duration": 4,
    "start_time": "2023-02-13T08:37:15.573Z"
   },
   {
    "duration": 18,
    "start_time": "2023-02-13T08:37:15.578Z"
   },
   {
    "duration": 5,
    "start_time": "2023-02-13T08:37:15.600Z"
   },
   {
    "duration": 9,
    "start_time": "2023-02-13T08:37:15.606Z"
   },
   {
    "duration": 37,
    "start_time": "2023-02-13T08:37:15.617Z"
   },
   {
    "duration": 4,
    "start_time": "2023-02-13T08:37:15.657Z"
   },
   {
    "duration": 37,
    "start_time": "2023-02-13T08:37:15.663Z"
   },
   {
    "duration": 10,
    "start_time": "2023-02-13T08:37:15.701Z"
   },
   {
    "duration": 6,
    "start_time": "2023-02-13T08:37:15.712Z"
   },
   {
    "duration": 33,
    "start_time": "2023-02-13T08:37:15.719Z"
   },
   {
    "duration": 22,
    "start_time": "2023-02-13T08:37:15.753Z"
   },
   {
    "duration": 17,
    "start_time": "2023-02-13T08:37:15.776Z"
   },
   {
    "duration": 3,
    "start_time": "2023-02-13T08:37:15.795Z"
   },
   {
    "duration": 13,
    "start_time": "2023-02-13T08:37:15.800Z"
   },
   {
    "duration": 10,
    "start_time": "2023-02-13T08:37:15.815Z"
   },
   {
    "duration": 29,
    "start_time": "2023-02-13T08:37:15.826Z"
   },
   {
    "duration": 5,
    "start_time": "2023-02-13T08:37:15.857Z"
   },
   {
    "duration": 13,
    "start_time": "2023-02-13T08:37:15.863Z"
   },
   {
    "duration": 27,
    "start_time": "2023-02-13T08:37:15.877Z"
   },
   {
    "duration": 23,
    "start_time": "2023-02-13T08:37:15.905Z"
   },
   {
    "duration": 27,
    "start_time": "2023-02-13T08:37:15.949Z"
   },
   {
    "duration": 25,
    "start_time": "2023-02-13T08:37:15.978Z"
   },
   {
    "duration": 44,
    "start_time": "2023-02-13T08:37:16.005Z"
   },
   {
    "duration": 45,
    "start_time": "2023-02-13T08:37:35.319Z"
   },
   {
    "duration": 14,
    "start_time": "2023-02-13T08:37:40.484Z"
   },
   {
    "duration": 368,
    "start_time": "2023-02-13T08:37:51.489Z"
   },
   {
    "duration": 76,
    "start_time": "2023-02-13T08:37:51.858Z"
   },
   {
    "duration": 20,
    "start_time": "2023-02-13T08:37:51.936Z"
   },
   {
    "duration": 15,
    "start_time": "2023-02-13T08:37:51.958Z"
   },
   {
    "duration": 9,
    "start_time": "2023-02-13T08:37:51.975Z"
   },
   {
    "duration": 11,
    "start_time": "2023-02-13T08:37:51.985Z"
   },
   {
    "duration": 53,
    "start_time": "2023-02-13T08:37:51.998Z"
   },
   {
    "duration": 3,
    "start_time": "2023-02-13T08:37:52.053Z"
   },
   {
    "duration": 11,
    "start_time": "2023-02-13T08:37:52.057Z"
   },
   {
    "duration": 3,
    "start_time": "2023-02-13T08:37:52.070Z"
   },
   {
    "duration": 6,
    "start_time": "2023-02-13T08:37:52.075Z"
   },
   {
    "duration": 25,
    "start_time": "2023-02-13T08:37:52.082Z"
   },
   {
    "duration": 4,
    "start_time": "2023-02-13T08:37:52.108Z"
   },
   {
    "duration": 56,
    "start_time": "2023-02-13T08:37:52.114Z"
   },
   {
    "duration": 8,
    "start_time": "2023-02-13T08:37:52.172Z"
   },
   {
    "duration": 3,
    "start_time": "2023-02-13T08:37:52.182Z"
   },
   {
    "duration": 16,
    "start_time": "2023-02-13T08:37:52.187Z"
   },
   {
    "duration": 18,
    "start_time": "2023-02-13T08:37:52.204Z"
   },
   {
    "duration": 32,
    "start_time": "2023-02-13T08:37:52.223Z"
   },
   {
    "duration": 3,
    "start_time": "2023-02-13T08:37:52.257Z"
   },
   {
    "duration": 14,
    "start_time": "2023-02-13T08:37:52.262Z"
   },
   {
    "duration": 6,
    "start_time": "2023-02-13T08:37:52.277Z"
   },
   {
    "duration": 19,
    "start_time": "2023-02-13T08:37:52.284Z"
   },
   {
    "duration": 4,
    "start_time": "2023-02-13T08:37:52.304Z"
   },
   {
    "duration": 14,
    "start_time": "2023-02-13T08:37:52.309Z"
   },
   {
    "duration": 38,
    "start_time": "2023-02-13T08:37:52.325Z"
   },
   {
    "duration": 24,
    "start_time": "2023-02-13T08:37:52.365Z"
   },
   {
    "duration": 28,
    "start_time": "2023-02-13T08:37:52.391Z"
   },
   {
    "duration": 49,
    "start_time": "2023-02-13T08:37:52.421Z"
   },
   {
    "duration": 25,
    "start_time": "2023-02-13T08:37:52.472Z"
   },
   {
    "duration": 63,
    "start_time": "2023-02-13T08:39:54.698Z"
   },
   {
    "duration": 9,
    "start_time": "2023-02-13T08:40:10.553Z"
   },
   {
    "duration": 7,
    "start_time": "2023-02-13T08:40:22.893Z"
   },
   {
    "duration": 3,
    "start_time": "2023-02-13T08:42:33.043Z"
   },
   {
    "duration": 60,
    "start_time": "2023-02-13T08:42:59.640Z"
   },
   {
    "duration": 26,
    "start_time": "2023-02-13T08:49:44.242Z"
   },
   {
    "duration": 24,
    "start_time": "2023-02-13T08:49:48.149Z"
   },
   {
    "duration": 28,
    "start_time": "2023-02-13T08:50:45.266Z"
   },
   {
    "duration": 3,
    "start_time": "2023-02-13T08:50:47.507Z"
   },
   {
    "duration": 29,
    "start_time": "2023-02-13T08:52:07.582Z"
   },
   {
    "duration": 28,
    "start_time": "2023-02-13T08:58:04.195Z"
   },
   {
    "duration": 2,
    "start_time": "2023-02-13T08:58:26.730Z"
   },
   {
    "duration": 25,
    "start_time": "2023-02-13T08:59:09.238Z"
   },
   {
    "duration": 27,
    "start_time": "2023-02-13T08:59:20.707Z"
   },
   {
    "duration": 30,
    "start_time": "2023-02-13T09:00:50.634Z"
   },
   {
    "duration": 444,
    "start_time": "2023-02-13T11:03:22.162Z"
   },
   {
    "duration": 338,
    "start_time": "2023-02-13T11:03:22.609Z"
   },
   {
    "duration": 31,
    "start_time": "2023-02-13T11:03:22.949Z"
   },
   {
    "duration": 18,
    "start_time": "2023-02-13T11:03:22.982Z"
   },
   {
    "duration": 10,
    "start_time": "2023-02-13T11:03:23.004Z"
   },
   {
    "duration": 14,
    "start_time": "2023-02-13T11:03:23.016Z"
   },
   {
    "duration": 74,
    "start_time": "2023-02-13T11:03:23.032Z"
   },
   {
    "duration": 4,
    "start_time": "2023-02-13T11:03:23.108Z"
   },
   {
    "duration": 16,
    "start_time": "2023-02-13T11:03:23.114Z"
   },
   {
    "duration": 5,
    "start_time": "2023-02-13T11:03:23.133Z"
   },
   {
    "duration": 18,
    "start_time": "2023-02-13T11:03:23.140Z"
   },
   {
    "duration": 47,
    "start_time": "2023-02-13T11:03:23.160Z"
   },
   {
    "duration": 7,
    "start_time": "2023-02-13T11:03:23.209Z"
   },
   {
    "duration": 70,
    "start_time": "2023-02-13T11:03:23.220Z"
   },
   {
    "duration": 14,
    "start_time": "2023-02-13T11:03:23.292Z"
   },
   {
    "duration": 10,
    "start_time": "2023-02-13T11:03:23.308Z"
   },
   {
    "duration": 25,
    "start_time": "2023-02-13T11:03:23.321Z"
   },
   {
    "duration": 32,
    "start_time": "2023-02-13T11:03:23.348Z"
   },
   {
    "duration": 29,
    "start_time": "2023-02-13T11:03:23.382Z"
   },
   {
    "duration": 15,
    "start_time": "2023-02-13T11:03:23.413Z"
   },
   {
    "duration": 16,
    "start_time": "2023-02-13T11:03:23.431Z"
   },
   {
    "duration": 17,
    "start_time": "2023-02-13T11:03:23.448Z"
   },
   {
    "duration": 16,
    "start_time": "2023-02-13T11:03:23.467Z"
   },
   {
    "duration": 13,
    "start_time": "2023-02-13T11:03:23.485Z"
   },
   {
    "duration": 31,
    "start_time": "2023-02-13T11:03:23.501Z"
   },
   {
    "duration": 35,
    "start_time": "2023-02-13T11:03:23.534Z"
   },
   {
    "duration": 9,
    "start_time": "2023-02-13T11:03:23.571Z"
   },
   {
    "duration": 40,
    "start_time": "2023-02-13T11:03:23.582Z"
   },
   {
    "duration": 2,
    "start_time": "2023-02-13T11:03:23.624Z"
   },
   {
    "duration": 34,
    "start_time": "2023-02-13T11:03:23.628Z"
   },
   {
    "duration": 17,
    "start_time": "2023-02-13T11:03:23.664Z"
   },
   {
    "duration": 31,
    "start_time": "2023-02-13T11:03:23.684Z"
   },
   {
    "duration": 33,
    "start_time": "2023-02-13T11:03:23.717Z"
   },
   {
    "duration": 60,
    "start_time": "2023-02-13T11:03:23.752Z"
   },
   {
    "duration": 24,
    "start_time": "2023-02-13T11:05:37.645Z"
   },
   {
    "duration": 25,
    "start_time": "2023-02-13T11:05:52.782Z"
   },
   {
    "duration": 30,
    "start_time": "2023-02-13T11:06:36.977Z"
   },
   {
    "duration": 32,
    "start_time": "2023-02-13T11:06:46.305Z"
   },
   {
    "duration": 94,
    "start_time": "2023-02-13T11:09:48.433Z"
   },
   {
    "duration": 26,
    "start_time": "2023-02-13T11:12:21.586Z"
   },
   {
    "duration": 5,
    "start_time": "2023-02-13T11:15:42.505Z"
   },
   {
    "duration": 24,
    "start_time": "2023-02-13T11:15:48.336Z"
   },
   {
    "duration": 925,
    "start_time": "2023-02-13T11:16:09.444Z"
   },
   {
    "duration": 28,
    "start_time": "2023-02-13T11:16:32.630Z"
   },
   {
    "duration": 28,
    "start_time": "2023-02-13T11:18:21.648Z"
   },
   {
    "duration": 1066,
    "start_time": "2023-02-13T11:18:42.472Z"
   },
   {
    "duration": 30,
    "start_time": "2023-02-13T11:18:56.248Z"
   },
   {
    "duration": 8,
    "start_time": "2023-02-13T11:19:25.791Z"
   },
   {
    "duration": 7,
    "start_time": "2023-02-13T11:19:38.788Z"
   },
   {
    "duration": 4,
    "start_time": "2023-02-13T11:20:10.284Z"
   },
   {
    "duration": 829,
    "start_time": "2023-02-13T11:21:13.585Z"
   },
   {
    "duration": 28,
    "start_time": "2023-02-13T11:21:47.906Z"
   },
   {
    "duration": 8,
    "start_time": "2023-02-13T11:22:09.356Z"
   },
   {
    "duration": 61,
    "start_time": "2023-02-13T11:22:40.732Z"
   },
   {
    "duration": 10,
    "start_time": "2023-02-13T11:23:03.228Z"
   },
   {
    "duration": 26,
    "start_time": "2023-02-13T11:24:31.697Z"
   },
   {
    "duration": 27,
    "start_time": "2023-02-13T11:24:35.200Z"
   },
   {
    "duration": 26,
    "start_time": "2023-02-13T11:24:53.861Z"
   },
   {
    "duration": 860,
    "start_time": "2023-02-13T11:25:08.429Z"
   },
   {
    "duration": 892,
    "start_time": "2023-02-13T11:25:25.578Z"
   },
   {
    "duration": 1431,
    "start_time": "2023-02-13T11:25:32.732Z"
   },
   {
    "duration": 28,
    "start_time": "2023-02-13T11:25:52.248Z"
   },
   {
    "duration": 55,
    "start_time": "2023-02-13T11:26:06.969Z"
   },
   {
    "duration": 43,
    "start_time": "2023-02-13T11:26:11.680Z"
   },
   {
    "duration": 31,
    "start_time": "2023-02-13T11:27:09.362Z"
   },
   {
    "duration": 30,
    "start_time": "2023-02-13T11:27:17.490Z"
   },
   {
    "duration": 31,
    "start_time": "2023-02-13T11:27:44.729Z"
   },
   {
    "duration": 412,
    "start_time": "2023-02-13T11:28:01.974Z"
   },
   {
    "duration": 77,
    "start_time": "2023-02-13T11:28:02.388Z"
   },
   {
    "duration": 25,
    "start_time": "2023-02-13T11:28:02.466Z"
   },
   {
    "duration": 17,
    "start_time": "2023-02-13T11:28:02.492Z"
   },
   {
    "duration": 9,
    "start_time": "2023-02-13T11:28:02.511Z"
   },
   {
    "duration": 14,
    "start_time": "2023-02-13T11:28:02.522Z"
   },
   {
    "duration": 58,
    "start_time": "2023-02-13T11:28:02.538Z"
   },
   {
    "duration": 3,
    "start_time": "2023-02-13T11:28:02.598Z"
   },
   {
    "duration": 28,
    "start_time": "2023-02-13T11:28:02.603Z"
   },
   {
    "duration": 7,
    "start_time": "2023-02-13T11:28:02.633Z"
   },
   {
    "duration": 12,
    "start_time": "2023-02-13T11:28:02.641Z"
   },
   {
    "duration": 28,
    "start_time": "2023-02-13T11:28:02.655Z"
   },
   {
    "duration": 4,
    "start_time": "2023-02-13T11:28:02.685Z"
   },
   {
    "duration": 37,
    "start_time": "2023-02-13T11:28:02.692Z"
   },
   {
    "duration": 9,
    "start_time": "2023-02-13T11:28:02.731Z"
   },
   {
    "duration": 4,
    "start_time": "2023-02-13T11:28:02.742Z"
   },
   {
    "duration": 35,
    "start_time": "2023-02-13T11:28:02.747Z"
   },
   {
    "duration": 23,
    "start_time": "2023-02-13T11:28:02.783Z"
   },
   {
    "duration": 18,
    "start_time": "2023-02-13T11:28:02.808Z"
   },
   {
    "duration": 4,
    "start_time": "2023-02-13T11:28:02.828Z"
   },
   {
    "duration": 13,
    "start_time": "2023-02-13T11:28:02.834Z"
   },
   {
    "duration": 11,
    "start_time": "2023-02-13T11:28:02.849Z"
   },
   {
    "duration": 8,
    "start_time": "2023-02-13T11:28:02.881Z"
   },
   {
    "duration": 5,
    "start_time": "2023-02-13T11:28:02.890Z"
   },
   {
    "duration": 12,
    "start_time": "2023-02-13T11:28:02.896Z"
   },
   {
    "duration": 24,
    "start_time": "2023-02-13T11:28:02.910Z"
   },
   {
    "duration": 8,
    "start_time": "2023-02-13T11:28:02.935Z"
   },
   {
    "duration": 47,
    "start_time": "2023-02-13T11:28:02.945Z"
   },
   {
    "duration": 4,
    "start_time": "2023-02-13T11:28:02.993Z"
   },
   {
    "duration": 27,
    "start_time": "2023-02-13T11:28:02.998Z"
   },
   {
    "duration": 12,
    "start_time": "2023-02-13T11:28:03.027Z"
   },
   {
    "duration": 36,
    "start_time": "2023-02-13T11:28:03.041Z"
   },
   {
    "duration": 2,
    "start_time": "2023-02-13T11:28:03.079Z"
   },
   {
    "duration": 34,
    "start_time": "2023-02-13T11:28:03.083Z"
   },
   {
    "duration": 31,
    "start_time": "2023-02-13T11:28:03.120Z"
   },
   {
    "duration": 46,
    "start_time": "2023-02-13T11:28:03.153Z"
   },
   {
    "duration": 29,
    "start_time": "2023-02-13T11:29:40.477Z"
   },
   {
    "duration": 32,
    "start_time": "2023-02-13T11:30:50.034Z"
   },
   {
    "duration": 33,
    "start_time": "2023-02-13T11:30:56.601Z"
   },
   {
    "duration": 41,
    "start_time": "2023-02-13T11:31:06.562Z"
   },
   {
    "duration": 32,
    "start_time": "2023-02-13T11:32:29.748Z"
   },
   {
    "duration": 32,
    "start_time": "2023-02-13T11:32:57.419Z"
   },
   {
    "duration": 76,
    "start_time": "2023-02-13T11:36:45.419Z"
   },
   {
    "duration": 1219,
    "start_time": "2023-02-13T11:36:52.949Z"
   },
   {
    "duration": 437,
    "start_time": "2023-02-13T11:37:09.413Z"
   },
   {
    "duration": 85,
    "start_time": "2023-02-13T11:37:09.853Z"
   },
   {
    "duration": 24,
    "start_time": "2023-02-13T11:37:09.940Z"
   },
   {
    "duration": 31,
    "start_time": "2023-02-13T11:37:09.966Z"
   },
   {
    "duration": 18,
    "start_time": "2023-02-13T11:37:10.001Z"
   },
   {
    "duration": 45,
    "start_time": "2023-02-13T11:37:10.021Z"
   },
   {
    "duration": 43,
    "start_time": "2023-02-13T11:37:10.067Z"
   },
   {
    "duration": 3,
    "start_time": "2023-02-13T11:37:10.113Z"
   },
   {
    "duration": 38,
    "start_time": "2023-02-13T11:37:10.118Z"
   },
   {
    "duration": 40,
    "start_time": "2023-02-13T11:37:10.158Z"
   },
   {
    "duration": 32,
    "start_time": "2023-02-13T11:37:10.200Z"
   },
   {
    "duration": 47,
    "start_time": "2023-02-13T11:37:10.234Z"
   },
   {
    "duration": 40,
    "start_time": "2023-02-13T11:37:10.283Z"
   },
   {
    "duration": 63,
    "start_time": "2023-02-13T11:37:10.327Z"
   },
   {
    "duration": 23,
    "start_time": "2023-02-13T11:37:10.392Z"
   },
   {
    "duration": 26,
    "start_time": "2023-02-13T11:37:10.417Z"
   },
   {
    "duration": 53,
    "start_time": "2023-02-13T11:37:10.445Z"
   },
   {
    "duration": 50,
    "start_time": "2023-02-13T11:37:10.501Z"
   },
   {
    "duration": 23,
    "start_time": "2023-02-13T11:37:10.555Z"
   },
   {
    "duration": 5,
    "start_time": "2023-02-13T11:37:10.580Z"
   },
   {
    "duration": 28,
    "start_time": "2023-02-13T11:37:10.587Z"
   },
   {
    "duration": 9,
    "start_time": "2023-02-13T11:37:10.617Z"
   },
   {
    "duration": 8,
    "start_time": "2023-02-13T11:37:10.628Z"
   },
   {
    "duration": 13,
    "start_time": "2023-02-13T11:37:10.638Z"
   },
   {
    "duration": 16,
    "start_time": "2023-02-13T11:37:10.653Z"
   },
   {
    "duration": 35,
    "start_time": "2023-02-13T11:37:10.671Z"
   },
   {
    "duration": 9,
    "start_time": "2023-02-13T11:37:10.708Z"
   },
   {
    "duration": 961,
    "start_time": "2023-02-13T11:37:10.720Z"
   },
   {
    "duration": 3,
    "start_time": "2023-02-13T11:37:11.685Z"
   },
   {
    "duration": 46,
    "start_time": "2023-02-13T11:37:11.690Z"
   },
   {
    "duration": 2,
    "start_time": "2023-02-13T11:37:11.738Z"
   },
   {
    "duration": 42,
    "start_time": "2023-02-13T11:37:11.741Z"
   },
   {
    "duration": 34,
    "start_time": "2023-02-13T11:37:11.786Z"
   },
   {
    "duration": 33,
    "start_time": "2023-02-13T11:37:11.822Z"
   },
   {
    "duration": 28,
    "start_time": "2023-02-13T11:38:04.218Z"
   },
   {
    "duration": 1156,
    "start_time": "2023-02-13T11:39:16.564Z"
   },
   {
    "duration": 76,
    "start_time": "2023-02-13T11:39:17.722Z"
   },
   {
    "duration": 20,
    "start_time": "2023-02-13T11:39:17.800Z"
   },
   {
    "duration": 33,
    "start_time": "2023-02-13T11:39:17.822Z"
   },
   {
    "duration": 28,
    "start_time": "2023-02-13T11:39:17.857Z"
   },
   {
    "duration": 26,
    "start_time": "2023-02-13T11:39:17.886Z"
   },
   {
    "duration": 42,
    "start_time": "2023-02-13T11:39:17.913Z"
   },
   {
    "duration": 3,
    "start_time": "2023-02-13T11:39:17.956Z"
   },
   {
    "duration": 27,
    "start_time": "2023-02-13T11:39:17.961Z"
   },
   {
    "duration": 25,
    "start_time": "2023-02-13T11:39:17.990Z"
   },
   {
    "duration": 31,
    "start_time": "2023-02-13T11:39:18.017Z"
   },
   {
    "duration": 45,
    "start_time": "2023-02-13T11:39:18.050Z"
   },
   {
    "duration": 28,
    "start_time": "2023-02-13T11:39:18.097Z"
   },
   {
    "duration": 61,
    "start_time": "2023-02-13T11:39:18.126Z"
   },
   {
    "duration": 11,
    "start_time": "2023-02-13T11:39:18.192Z"
   },
   {
    "duration": 21,
    "start_time": "2023-02-13T11:39:18.205Z"
   },
   {
    "duration": 31,
    "start_time": "2023-02-13T11:39:18.227Z"
   },
   {
    "duration": 33,
    "start_time": "2023-02-13T11:39:18.259Z"
   },
   {
    "duration": 31,
    "start_time": "2023-02-13T11:39:18.294Z"
   },
   {
    "duration": 14,
    "start_time": "2023-02-13T11:39:18.327Z"
   },
   {
    "duration": 50,
    "start_time": "2023-02-13T11:39:18.343Z"
   },
   {
    "duration": 33,
    "start_time": "2023-02-13T11:39:18.396Z"
   },
   {
    "duration": 22,
    "start_time": "2023-02-13T11:39:18.431Z"
   },
   {
    "duration": 25,
    "start_time": "2023-02-13T11:39:18.455Z"
   },
   {
    "duration": 36,
    "start_time": "2023-02-13T11:39:18.484Z"
   },
   {
    "duration": 20,
    "start_time": "2023-02-13T11:39:18.522Z"
   },
   {
    "duration": 14,
    "start_time": "2023-02-13T11:39:18.543Z"
   },
   {
    "duration": 53,
    "start_time": "2023-02-13T11:39:18.561Z"
   },
   {
    "duration": 146,
    "start_time": "2023-02-13T11:39:18.615Z"
   },
   {
    "duration": 2,
    "start_time": "2023-02-13T11:39:18.763Z"
   },
   {
    "duration": 58,
    "start_time": "2023-02-13T11:39:18.766Z"
   },
   {
    "duration": 13,
    "start_time": "2023-02-13T11:39:18.825Z"
   },
   {
    "duration": 61,
    "start_time": "2023-02-13T11:39:18.839Z"
   },
   {
    "duration": 33,
    "start_time": "2023-02-13T11:39:18.902Z"
   },
   {
    "duration": 48,
    "start_time": "2023-02-13T11:39:18.937Z"
   },
   {
    "duration": 387,
    "start_time": "2023-02-13T11:41:30.649Z"
   },
   {
    "duration": 112,
    "start_time": "2023-02-13T11:41:48.893Z"
   },
   {
    "duration": 119,
    "start_time": "2023-02-13T11:41:55.241Z"
   },
   {
    "duration": 13,
    "start_time": "2023-02-13T11:44:07.215Z"
   },
   {
    "duration": 117,
    "start_time": "2023-02-13T11:44:22.136Z"
   },
   {
    "duration": 124,
    "start_time": "2023-02-13T11:44:47.487Z"
   },
   {
    "duration": 3,
    "start_time": "2023-02-13T11:45:04.729Z"
   },
   {
    "duration": 130,
    "start_time": "2023-02-13T11:45:21.076Z"
   },
   {
    "duration": 124,
    "start_time": "2023-02-13T11:47:00.069Z"
   },
   {
    "duration": 138,
    "start_time": "2023-02-13T11:49:18.207Z"
   },
   {
    "duration": 856,
    "start_time": "2023-02-13T11:49:41.012Z"
   },
   {
    "duration": 250,
    "start_time": "2023-02-13T11:50:03.340Z"
   },
   {
    "duration": 105,
    "start_time": "2023-02-13T11:50:08.820Z"
   },
   {
    "duration": 1931,
    "start_time": "2023-02-13T11:50:18.549Z"
   },
   {
    "duration": 34,
    "start_time": "2023-02-13T11:50:31.233Z"
   },
   {
    "duration": 1125,
    "start_time": "2023-02-13T11:50:45.822Z"
   },
   {
    "duration": 1205,
    "start_time": "2023-02-13T11:50:50.000Z"
   },
   {
    "duration": 992,
    "start_time": "2023-02-13T11:51:22.509Z"
   },
   {
    "duration": 47,
    "start_time": "2023-02-13T11:51:27.170Z"
   },
   {
    "duration": 37,
    "start_time": "2023-02-13T11:51:34.875Z"
   },
   {
    "duration": 34,
    "start_time": "2023-02-13T11:51:40.253Z"
   },
   {
    "duration": 117,
    "start_time": "2023-02-13T11:51:50.425Z"
   },
   {
    "duration": 15,
    "start_time": "2023-02-13T11:52:40.653Z"
   },
   {
    "duration": 31,
    "start_time": "2023-02-13T11:52:52.317Z"
   },
   {
    "duration": 109,
    "start_time": "2023-02-13T11:53:03.996Z"
   },
   {
    "duration": 32,
    "start_time": "2023-02-13T11:53:22.731Z"
   },
   {
    "duration": 131,
    "start_time": "2023-02-13T11:53:24.912Z"
   },
   {
    "duration": 34,
    "start_time": "2023-02-13T11:53:45.071Z"
   },
   {
    "duration": 122,
    "start_time": "2023-02-13T11:53:46.904Z"
   },
   {
    "duration": 136,
    "start_time": "2023-02-13T11:56:00.296Z"
   },
   {
    "duration": 142,
    "start_time": "2023-02-13T11:56:18.717Z"
   },
   {
    "duration": 137,
    "start_time": "2023-02-13T11:56:24.824Z"
   },
   {
    "duration": 160,
    "start_time": "2023-02-13T11:57:03.194Z"
   },
   {
    "duration": 169,
    "start_time": "2023-02-13T11:57:45.353Z"
   },
   {
    "duration": 162,
    "start_time": "2023-02-13T11:57:54.494Z"
   },
   {
    "duration": 184,
    "start_time": "2023-02-13T11:58:38.620Z"
   },
   {
    "duration": 247,
    "start_time": "2023-02-13T12:01:20.907Z"
   },
   {
    "duration": 159,
    "start_time": "2023-02-13T12:01:50.926Z"
   },
   {
    "duration": 139,
    "start_time": "2023-02-13T12:02:03.871Z"
   },
   {
    "duration": 139,
    "start_time": "2023-02-13T12:05:15.135Z"
   },
   {
    "duration": 139,
    "start_time": "2023-02-13T12:06:06.503Z"
   },
   {
    "duration": 5,
    "start_time": "2023-02-13T12:07:57.652Z"
   },
   {
    "duration": 127,
    "start_time": "2023-02-13T12:07:59.569Z"
   },
   {
    "duration": 3,
    "start_time": "2023-02-13T12:09:04.910Z"
   },
   {
    "duration": 131,
    "start_time": "2023-02-13T12:09:11.803Z"
   },
   {
    "duration": 47,
    "start_time": "2023-02-13T12:10:25.964Z"
   },
   {
    "duration": 1196,
    "start_time": "2023-02-13T12:10:35.685Z"
   },
   {
    "duration": 74,
    "start_time": "2023-02-13T12:10:36.883Z"
   },
   {
    "duration": 28,
    "start_time": "2023-02-13T12:10:36.959Z"
   },
   {
    "duration": 38,
    "start_time": "2023-02-13T12:10:36.990Z"
   },
   {
    "duration": 31,
    "start_time": "2023-02-13T12:10:37.030Z"
   },
   {
    "duration": 40,
    "start_time": "2023-02-13T12:10:37.063Z"
   },
   {
    "duration": 75,
    "start_time": "2023-02-13T12:10:37.105Z"
   },
   {
    "duration": 8,
    "start_time": "2023-02-13T12:10:37.181Z"
   },
   {
    "duration": 52,
    "start_time": "2023-02-13T12:10:37.191Z"
   },
   {
    "duration": 18,
    "start_time": "2023-02-13T12:10:37.247Z"
   },
   {
    "duration": 34,
    "start_time": "2023-02-13T12:10:37.267Z"
   },
   {
    "duration": 62,
    "start_time": "2023-02-13T12:10:37.303Z"
   },
   {
    "duration": 24,
    "start_time": "2023-02-13T12:10:37.366Z"
   },
   {
    "duration": 69,
    "start_time": "2023-02-13T12:10:37.392Z"
   },
   {
    "duration": 26,
    "start_time": "2023-02-13T12:10:37.464Z"
   },
   {
    "duration": 36,
    "start_time": "2023-02-13T12:10:37.491Z"
   },
   {
    "duration": 66,
    "start_time": "2023-02-13T12:10:37.528Z"
   },
   {
    "duration": 46,
    "start_time": "2023-02-13T12:10:37.595Z"
   },
   {
    "duration": 21,
    "start_time": "2023-02-13T12:10:37.642Z"
   },
   {
    "duration": 13,
    "start_time": "2023-02-13T12:10:37.665Z"
   },
   {
    "duration": 42,
    "start_time": "2023-02-13T12:10:37.680Z"
   },
   {
    "duration": 27,
    "start_time": "2023-02-13T12:10:37.724Z"
   },
   {
    "duration": 45,
    "start_time": "2023-02-13T12:10:37.753Z"
   },
   {
    "duration": 23,
    "start_time": "2023-02-13T12:10:37.800Z"
   },
   {
    "duration": 49,
    "start_time": "2023-02-13T12:10:37.825Z"
   },
   {
    "duration": 29,
    "start_time": "2023-02-13T12:10:37.876Z"
   },
   {
    "duration": 31,
    "start_time": "2023-02-13T12:10:37.907Z"
   },
   {
    "duration": 50,
    "start_time": "2023-02-13T12:10:37.942Z"
   },
   {
    "duration": 7,
    "start_time": "2023-02-13T12:10:37.994Z"
   },
   {
    "duration": 202,
    "start_time": "2023-02-13T12:10:38.004Z"
   },
   {
    "duration": 3,
    "start_time": "2023-02-13T12:10:38.208Z"
   },
   {
    "duration": 81,
    "start_time": "2023-02-13T12:10:38.213Z"
   },
   {
    "duration": 133,
    "start_time": "2023-02-13T12:10:38.296Z"
   },
   {
    "duration": 2,
    "start_time": "2023-02-13T12:10:38.431Z"
   },
   {
    "duration": 62,
    "start_time": "2023-02-13T12:10:38.434Z"
   },
   {
    "duration": 133,
    "start_time": "2023-02-13T12:10:38.498Z"
   },
   {
    "duration": 2,
    "start_time": "2023-02-13T12:10:38.633Z"
   },
   {
    "duration": 66,
    "start_time": "2023-02-13T12:10:38.637Z"
   },
   {
    "duration": 147,
    "start_time": "2023-02-13T12:10:38.705Z"
   },
   {
    "duration": 143,
    "start_time": "2023-02-13T12:10:53.722Z"
   },
   {
    "duration": 134,
    "start_time": "2023-02-13T12:12:08.835Z"
   },
   {
    "duration": 76,
    "start_time": "2023-02-13T12:12:15.511Z"
   },
   {
    "duration": 140,
    "start_time": "2023-02-13T12:12:22.504Z"
   },
   {
    "duration": 136,
    "start_time": "2023-02-13T12:12:27.827Z"
   },
   {
    "duration": 138,
    "start_time": "2023-02-13T12:12:31.232Z"
   },
   {
    "duration": 192,
    "start_time": "2023-02-13T12:13:18.293Z"
   },
   {
    "duration": 131,
    "start_time": "2023-02-13T12:13:41.165Z"
   },
   {
    "duration": 147,
    "start_time": "2023-02-13T12:14:13.297Z"
   },
   {
    "duration": 155,
    "start_time": "2023-02-13T12:14:36.249Z"
   },
   {
    "duration": 5,
    "start_time": "2023-02-13T12:14:52.122Z"
   },
   {
    "duration": 150,
    "start_time": "2023-02-13T12:14:54.263Z"
   },
   {
    "duration": 5,
    "start_time": "2023-02-13T12:14:59.869Z"
   },
   {
    "duration": 137,
    "start_time": "2023-02-13T12:15:01.084Z"
   },
   {
    "duration": 143,
    "start_time": "2023-02-13T12:15:45.403Z"
   },
   {
    "duration": 144,
    "start_time": "2023-02-13T12:15:53.438Z"
   },
   {
    "duration": 126,
    "start_time": "2023-02-13T12:16:55.982Z"
   },
   {
    "duration": 133,
    "start_time": "2023-02-13T12:18:16.740Z"
   },
   {
    "duration": 147,
    "start_time": "2023-02-13T12:18:27.094Z"
   },
   {
    "duration": 233,
    "start_time": "2023-02-13T12:18:36.027Z"
   },
   {
    "duration": 126,
    "start_time": "2023-02-13T12:18:43.070Z"
   },
   {
    "duration": 123,
    "start_time": "2023-02-13T12:21:14.344Z"
   },
   {
    "duration": 34,
    "start_time": "2023-02-13T12:21:46.613Z"
   },
   {
    "duration": 33,
    "start_time": "2023-02-13T12:21:56.038Z"
   },
   {
    "duration": 35,
    "start_time": "2023-02-13T12:22:16.332Z"
   },
   {
    "duration": 29,
    "start_time": "2023-02-13T12:23:29.778Z"
   },
   {
    "duration": 35,
    "start_time": "2023-02-13T12:23:41.313Z"
   },
   {
    "duration": 31,
    "start_time": "2023-02-13T12:24:47.618Z"
   },
   {
    "duration": 1260,
    "start_time": "2023-02-13T12:25:20.198Z"
   },
   {
    "duration": 85,
    "start_time": "2023-02-13T12:25:21.460Z"
   },
   {
    "duration": 24,
    "start_time": "2023-02-13T12:25:21.550Z"
   },
   {
    "duration": 16,
    "start_time": "2023-02-13T12:25:21.575Z"
   },
   {
    "duration": 10,
    "start_time": "2023-02-13T12:25:21.594Z"
   },
   {
    "duration": 19,
    "start_time": "2023-02-13T12:25:21.606Z"
   },
   {
    "duration": 72,
    "start_time": "2023-02-13T12:25:21.627Z"
   },
   {
    "duration": 4,
    "start_time": "2023-02-13T12:25:21.702Z"
   },
   {
    "duration": 18,
    "start_time": "2023-02-13T12:25:21.708Z"
   },
   {
    "duration": 5,
    "start_time": "2023-02-13T12:25:21.728Z"
   },
   {
    "duration": 8,
    "start_time": "2023-02-13T12:25:21.735Z"
   },
   {
    "duration": 62,
    "start_time": "2023-02-13T12:25:21.745Z"
   },
   {
    "duration": 5,
    "start_time": "2023-02-13T12:25:21.810Z"
   },
   {
    "duration": 66,
    "start_time": "2023-02-13T12:25:21.818Z"
   },
   {
    "duration": 14,
    "start_time": "2023-02-13T12:25:21.887Z"
   },
   {
    "duration": 5,
    "start_time": "2023-02-13T12:25:21.903Z"
   },
   {
    "duration": 13,
    "start_time": "2023-02-13T12:25:21.910Z"
   },
   {
    "duration": 25,
    "start_time": "2023-02-13T12:25:21.926Z"
   },
   {
    "duration": 27,
    "start_time": "2023-02-13T12:25:21.982Z"
   },
   {
    "duration": 5,
    "start_time": "2023-02-13T12:25:22.012Z"
   },
   {
    "duration": 22,
    "start_time": "2023-02-13T12:25:22.019Z"
   },
   {
    "duration": 9,
    "start_time": "2023-02-13T12:25:22.043Z"
   },
   {
    "duration": 34,
    "start_time": "2023-02-13T12:25:22.054Z"
   },
   {
    "duration": 14,
    "start_time": "2023-02-13T12:25:22.090Z"
   },
   {
    "duration": 13,
    "start_time": "2023-02-13T12:25:22.106Z"
   },
   {
    "duration": 12,
    "start_time": "2023-02-13T12:25:22.123Z"
   },
   {
    "duration": 7,
    "start_time": "2023-02-13T12:25:22.138Z"
   },
   {
    "duration": 57,
    "start_time": "2023-02-13T12:25:22.147Z"
   },
   {
    "duration": 5,
    "start_time": "2023-02-13T12:25:22.206Z"
   },
   {
    "duration": 166,
    "start_time": "2023-02-13T12:25:22.212Z"
   },
   {
    "duration": 3,
    "start_time": "2023-02-13T12:25:22.381Z"
   },
   {
    "duration": 41,
    "start_time": "2023-02-13T12:25:22.386Z"
   },
   {
    "duration": 175,
    "start_time": "2023-02-13T12:25:22.429Z"
   },
   {
    "duration": 3,
    "start_time": "2023-02-13T12:25:22.606Z"
   },
   {
    "duration": 37,
    "start_time": "2023-02-13T12:25:22.611Z"
   },
   {
    "duration": 142,
    "start_time": "2023-02-13T12:25:22.650Z"
   },
   {
    "duration": 3,
    "start_time": "2023-02-13T12:25:22.794Z"
   },
   {
    "duration": 36,
    "start_time": "2023-02-13T12:25:22.799Z"
   },
   {
    "duration": 163,
    "start_time": "2023-02-13T12:25:22.836Z"
   },
   {
    "duration": 5,
    "start_time": "2023-02-13T12:27:53.909Z"
   },
   {
    "duration": 60,
    "start_time": "2023-02-13T13:05:19.220Z"
   },
   {
    "duration": 71,
    "start_time": "2023-02-13T13:18:51.305Z"
   },
   {
    "duration": 1130,
    "start_time": "2023-02-13T13:22:48.433Z"
   },
   {
    "duration": 75,
    "start_time": "2023-02-13T13:22:49.565Z"
   },
   {
    "duration": 23,
    "start_time": "2023-02-13T13:22:49.641Z"
   },
   {
    "duration": 31,
    "start_time": "2023-02-13T13:22:49.667Z"
   },
   {
    "duration": 12,
    "start_time": "2023-02-13T13:22:49.702Z"
   },
   {
    "duration": 13,
    "start_time": "2023-02-13T13:22:49.715Z"
   },
   {
    "duration": 60,
    "start_time": "2023-02-13T13:22:49.730Z"
   },
   {
    "duration": 4,
    "start_time": "2023-02-13T13:22:49.792Z"
   },
   {
    "duration": 11,
    "start_time": "2023-02-13T13:22:49.798Z"
   },
   {
    "duration": 5,
    "start_time": "2023-02-13T13:22:49.813Z"
   },
   {
    "duration": 7,
    "start_time": "2023-02-13T13:22:49.819Z"
   },
   {
    "duration": 26,
    "start_time": "2023-02-13T13:22:49.827Z"
   },
   {
    "duration": 5,
    "start_time": "2023-02-13T13:22:49.881Z"
   },
   {
    "duration": 37,
    "start_time": "2023-02-13T13:22:49.888Z"
   },
   {
    "duration": 11,
    "start_time": "2023-02-13T13:22:49.927Z"
   },
   {
    "duration": 9,
    "start_time": "2023-02-13T13:22:49.939Z"
   },
   {
    "duration": 32,
    "start_time": "2023-02-13T13:22:49.951Z"
   },
   {
    "duration": 24,
    "start_time": "2023-02-13T13:22:49.985Z"
   },
   {
    "duration": 19,
    "start_time": "2023-02-13T13:22:50.011Z"
   },
   {
    "duration": 5,
    "start_time": "2023-02-13T13:22:50.032Z"
   },
   {
    "duration": 14,
    "start_time": "2023-02-13T13:22:50.038Z"
   },
   {
    "duration": 32,
    "start_time": "2023-02-13T13:22:50.053Z"
   },
   {
    "duration": 13,
    "start_time": "2023-02-13T13:22:50.087Z"
   },
   {
    "duration": 5,
    "start_time": "2023-02-13T13:22:50.102Z"
   },
   {
    "duration": 24,
    "start_time": "2023-02-13T13:22:50.109Z"
   },
   {
    "duration": 10,
    "start_time": "2023-02-13T13:22:50.135Z"
   },
   {
    "duration": 11,
    "start_time": "2023-02-13T13:22:50.147Z"
   },
   {
    "duration": 62,
    "start_time": "2023-02-13T13:22:50.162Z"
   },
   {
    "duration": 5,
    "start_time": "2023-02-13T13:22:50.225Z"
   },
   {
    "duration": 157,
    "start_time": "2023-02-13T13:22:50.232Z"
   },
   {
    "duration": 2,
    "start_time": "2023-02-13T13:22:50.391Z"
   },
   {
    "duration": 44,
    "start_time": "2023-02-13T13:22:50.394Z"
   },
   {
    "duration": 163,
    "start_time": "2023-02-13T13:22:50.440Z"
   },
   {
    "duration": 2,
    "start_time": "2023-02-13T13:22:50.605Z"
   },
   {
    "duration": 42,
    "start_time": "2023-02-13T13:22:50.609Z"
   },
   {
    "duration": 153,
    "start_time": "2023-02-13T13:22:50.653Z"
   },
   {
    "duration": 3,
    "start_time": "2023-02-13T13:22:50.807Z"
   },
   {
    "duration": 50,
    "start_time": "2023-02-13T13:22:50.812Z"
   },
   {
    "duration": 138,
    "start_time": "2023-02-13T13:22:50.864Z"
   },
   {
    "duration": 1278,
    "start_time": "2023-02-14T06:08:24.027Z"
   },
   {
    "duration": 113,
    "start_time": "2023-02-14T06:08:25.307Z"
   },
   {
    "duration": 20,
    "start_time": "2023-02-14T06:08:25.421Z"
   },
   {
    "duration": 15,
    "start_time": "2023-02-14T06:08:25.443Z"
   },
   {
    "duration": 8,
    "start_time": "2023-02-14T06:08:25.460Z"
   },
   {
    "duration": 14,
    "start_time": "2023-02-14T06:08:25.469Z"
   },
   {
    "duration": 44,
    "start_time": "2023-02-14T06:08:25.485Z"
   },
   {
    "duration": 3,
    "start_time": "2023-02-14T06:08:25.531Z"
   },
   {
    "duration": 10,
    "start_time": "2023-02-14T06:08:25.536Z"
   },
   {
    "duration": 4,
    "start_time": "2023-02-14T06:08:25.548Z"
   },
   {
    "duration": 10,
    "start_time": "2023-02-14T06:08:25.554Z"
   },
   {
    "duration": 45,
    "start_time": "2023-02-14T06:08:25.565Z"
   },
   {
    "duration": 3,
    "start_time": "2023-02-14T06:08:25.612Z"
   },
   {
    "duration": 31,
    "start_time": "2023-02-14T06:08:25.618Z"
   },
   {
    "duration": 8,
    "start_time": "2023-02-14T06:08:25.651Z"
   },
   {
    "duration": 3,
    "start_time": "2023-02-14T06:08:25.661Z"
   },
   {
    "duration": 11,
    "start_time": "2023-02-14T06:08:25.665Z"
   },
   {
    "duration": 45,
    "start_time": "2023-02-14T06:08:25.677Z"
   },
   {
    "duration": 16,
    "start_time": "2023-02-14T06:08:25.724Z"
   },
   {
    "duration": 4,
    "start_time": "2023-02-14T06:08:25.741Z"
   },
   {
    "duration": 14,
    "start_time": "2023-02-14T06:08:25.746Z"
   },
   {
    "duration": 9,
    "start_time": "2023-02-14T06:08:25.761Z"
   },
   {
    "duration": 12,
    "start_time": "2023-02-14T06:08:25.772Z"
   },
   {
    "duration": 4,
    "start_time": "2023-02-14T06:08:25.785Z"
   },
   {
    "duration": 21,
    "start_time": "2023-02-14T06:08:25.791Z"
   },
   {
    "duration": 7,
    "start_time": "2023-02-14T06:08:25.814Z"
   },
   {
    "duration": 4,
    "start_time": "2023-02-14T06:08:25.822Z"
   },
   {
    "duration": 30,
    "start_time": "2023-02-14T06:08:25.827Z"
   },
   {
    "duration": 5,
    "start_time": "2023-02-14T06:08:25.858Z"
   },
   {
    "duration": 147,
    "start_time": "2023-02-14T06:08:25.864Z"
   },
   {
    "duration": 2,
    "start_time": "2023-02-14T06:08:26.012Z"
   },
   {
    "duration": 37,
    "start_time": "2023-02-14T06:08:26.016Z"
   },
   {
    "duration": 131,
    "start_time": "2023-02-14T06:08:26.054Z"
   },
   {
    "duration": 2,
    "start_time": "2023-02-14T06:08:26.187Z"
   },
   {
    "duration": 40,
    "start_time": "2023-02-14T06:08:26.191Z"
   },
   {
    "duration": 116,
    "start_time": "2023-02-14T06:08:26.232Z"
   },
   {
    "duration": 2,
    "start_time": "2023-02-14T06:08:26.350Z"
   },
   {
    "duration": 33,
    "start_time": "2023-02-14T06:08:26.353Z"
   },
   {
    "duration": 137,
    "start_time": "2023-02-14T06:08:26.388Z"
   },
   {
    "duration": 2,
    "start_time": "2023-02-14T06:13:39.472Z"
   },
   {
    "duration": 14,
    "start_time": "2023-02-14T06:13:48.610Z"
   },
   {
    "duration": 106,
    "start_time": "2023-02-14T06:15:16.314Z"
   },
   {
    "duration": 14,
    "start_time": "2023-02-14T06:15:51.882Z"
   },
   {
    "duration": 20,
    "start_time": "2023-02-14T06:16:03.387Z"
   },
   {
    "duration": 71,
    "start_time": "2023-02-14T06:16:29.184Z"
   },
   {
    "duration": 18,
    "start_time": "2023-02-14T06:16:44.515Z"
   },
   {
    "duration": 16,
    "start_time": "2023-02-14T06:17:08.973Z"
   },
   {
    "duration": 20,
    "start_time": "2023-02-14T06:17:21.815Z"
   },
   {
    "duration": 3,
    "start_time": "2023-02-14T06:17:32.680Z"
   },
   {
    "duration": 67,
    "start_time": "2023-02-14T06:17:32.685Z"
   },
   {
    "duration": 15,
    "start_time": "2023-02-14T06:17:32.753Z"
   },
   {
    "duration": 14,
    "start_time": "2023-02-14T06:17:32.770Z"
   },
   {
    "duration": 32,
    "start_time": "2023-02-14T06:17:32.786Z"
   },
   {
    "duration": 13,
    "start_time": "2023-02-14T06:17:32.820Z"
   },
   {
    "duration": 31,
    "start_time": "2023-02-14T06:17:32.835Z"
   },
   {
    "duration": 3,
    "start_time": "2023-02-14T06:17:32.868Z"
   },
   {
    "duration": 12,
    "start_time": "2023-02-14T06:17:32.874Z"
   },
   {
    "duration": 23,
    "start_time": "2023-02-14T06:17:32.887Z"
   },
   {
    "duration": 10,
    "start_time": "2023-02-14T06:17:32.912Z"
   },
   {
    "duration": 24,
    "start_time": "2023-02-14T06:17:32.924Z"
   },
   {
    "duration": 6,
    "start_time": "2023-02-14T06:17:32.950Z"
   },
   {
    "duration": 67,
    "start_time": "2023-02-14T06:17:32.958Z"
   },
   {
    "duration": 11,
    "start_time": "2023-02-14T06:17:33.027Z"
   },
   {
    "duration": 16,
    "start_time": "2023-02-14T06:17:33.039Z"
   },
   {
    "duration": 24,
    "start_time": "2023-02-14T06:17:33.057Z"
   },
   {
    "duration": 22,
    "start_time": "2023-02-14T06:17:33.084Z"
   },
   {
    "duration": 17,
    "start_time": "2023-02-14T06:17:33.108Z"
   },
   {
    "duration": 3,
    "start_time": "2023-02-14T06:17:33.127Z"
   },
   {
    "duration": 12,
    "start_time": "2023-02-14T06:17:33.132Z"
   },
   {
    "duration": 6,
    "start_time": "2023-02-14T06:17:33.146Z"
   },
   {
    "duration": 8,
    "start_time": "2023-02-14T06:17:33.153Z"
   },
   {
    "duration": 3,
    "start_time": "2023-02-14T06:17:33.165Z"
   },
   {
    "duration": 40,
    "start_time": "2023-02-14T06:17:33.170Z"
   },
   {
    "duration": 8,
    "start_time": "2023-02-14T06:17:33.211Z"
   },
   {
    "duration": 3,
    "start_time": "2023-02-14T06:17:33.221Z"
   },
   {
    "duration": 47,
    "start_time": "2023-02-14T06:17:33.226Z"
   },
   {
    "duration": 6,
    "start_time": "2023-02-14T06:17:33.275Z"
   },
   {
    "duration": 173,
    "start_time": "2023-02-14T06:17:33.283Z"
   },
   {
    "duration": 13,
    "start_time": "2023-02-14T06:17:36.030Z"
   },
   {
    "duration": 14,
    "start_time": "2023-02-14T06:17:41.307Z"
   },
   {
    "duration": 77,
    "start_time": "2023-02-14T06:20:08.678Z"
   },
   {
    "duration": 20,
    "start_time": "2023-02-14T06:20:17.280Z"
   },
   {
    "duration": 25,
    "start_time": "2023-02-14T06:20:39.693Z"
   },
   {
    "duration": 1129,
    "start_time": "2023-02-14T08:15:13.894Z"
   },
   {
    "duration": 67,
    "start_time": "2023-02-14T08:15:15.025Z"
   },
   {
    "duration": 18,
    "start_time": "2023-02-14T08:15:15.093Z"
   },
   {
    "duration": 15,
    "start_time": "2023-02-14T08:15:15.112Z"
   },
   {
    "duration": 9,
    "start_time": "2023-02-14T08:15:15.129Z"
   },
   {
    "duration": 11,
    "start_time": "2023-02-14T08:15:15.139Z"
   },
   {
    "duration": 57,
    "start_time": "2023-02-14T08:15:15.152Z"
   },
   {
    "duration": 4,
    "start_time": "2023-02-14T08:15:15.212Z"
   },
   {
    "duration": 9,
    "start_time": "2023-02-14T08:15:15.218Z"
   },
   {
    "duration": 4,
    "start_time": "2023-02-14T08:15:15.228Z"
   },
   {
    "duration": 8,
    "start_time": "2023-02-14T08:15:15.233Z"
   },
   {
    "duration": 34,
    "start_time": "2023-02-14T08:15:15.242Z"
   },
   {
    "duration": 4,
    "start_time": "2023-02-14T08:15:15.277Z"
   },
   {
    "duration": 56,
    "start_time": "2023-02-14T08:15:15.283Z"
   },
   {
    "duration": 9,
    "start_time": "2023-02-14T08:15:15.340Z"
   },
   {
    "duration": 5,
    "start_time": "2023-02-14T08:15:15.350Z"
   },
   {
    "duration": 11,
    "start_time": "2023-02-14T08:15:15.357Z"
   },
   {
    "duration": 41,
    "start_time": "2023-02-14T08:15:15.369Z"
   },
   {
    "duration": 16,
    "start_time": "2023-02-14T08:15:15.412Z"
   },
   {
    "duration": 4,
    "start_time": "2023-02-14T08:15:15.430Z"
   },
   {
    "duration": 18,
    "start_time": "2023-02-14T08:15:15.435Z"
   },
   {
    "duration": 7,
    "start_time": "2023-02-14T08:15:15.454Z"
   },
   {
    "duration": 8,
    "start_time": "2023-02-14T08:15:15.463Z"
   },
   {
    "duration": 3,
    "start_time": "2023-02-14T08:15:15.473Z"
   },
   {
    "duration": 14,
    "start_time": "2023-02-14T08:15:15.477Z"
   },
   {
    "duration": 25,
    "start_time": "2023-02-14T08:15:15.492Z"
   },
   {
    "duration": 4,
    "start_time": "2023-02-14T08:15:15.519Z"
   },
   {
    "duration": 30,
    "start_time": "2023-02-14T08:15:15.525Z"
   },
   {
    "duration": 5,
    "start_time": "2023-02-14T08:15:15.557Z"
   },
   {
    "duration": 151,
    "start_time": "2023-02-14T08:15:15.563Z"
   },
   {
    "duration": 2,
    "start_time": "2023-02-14T08:15:15.715Z"
   },
   {
    "duration": 34,
    "start_time": "2023-02-14T08:15:15.719Z"
   },
   {
    "duration": 139,
    "start_time": "2023-02-14T08:15:15.755Z"
   },
   {
    "duration": 2,
    "start_time": "2023-02-14T08:15:15.896Z"
   },
   {
    "duration": 35,
    "start_time": "2023-02-14T08:15:15.900Z"
   },
   {
    "duration": 125,
    "start_time": "2023-02-14T08:15:15.937Z"
   },
   {
    "duration": 2,
    "start_time": "2023-02-14T08:15:16.063Z"
   },
   {
    "duration": 45,
    "start_time": "2023-02-14T08:15:16.066Z"
   },
   {
    "duration": 125,
    "start_time": "2023-02-14T08:15:16.112Z"
   },
   {
    "duration": 1091,
    "start_time": "2023-02-14T08:15:22.840Z"
   },
   {
    "duration": 66,
    "start_time": "2023-02-14T08:15:23.933Z"
   },
   {
    "duration": 19,
    "start_time": "2023-02-14T08:15:24.000Z"
   },
   {
    "duration": 14,
    "start_time": "2023-02-14T08:15:24.021Z"
   },
   {
    "duration": 9,
    "start_time": "2023-02-14T08:15:24.037Z"
   },
   {
    "duration": 14,
    "start_time": "2023-02-14T08:15:24.047Z"
   },
   {
    "duration": 50,
    "start_time": "2023-02-14T08:15:24.062Z"
   },
   {
    "duration": 3,
    "start_time": "2023-02-14T08:15:24.114Z"
   },
   {
    "duration": 15,
    "start_time": "2023-02-14T08:15:24.119Z"
   },
   {
    "duration": 5,
    "start_time": "2023-02-14T08:15:24.135Z"
   },
   {
    "duration": 7,
    "start_time": "2023-02-14T08:15:24.141Z"
   },
   {
    "duration": 24,
    "start_time": "2023-02-14T08:15:24.149Z"
   },
   {
    "duration": 4,
    "start_time": "2023-02-14T08:15:24.175Z"
   },
   {
    "duration": 31,
    "start_time": "2023-02-14T08:15:24.211Z"
   },
   {
    "duration": 9,
    "start_time": "2023-02-14T08:15:24.244Z"
   },
   {
    "duration": 4,
    "start_time": "2023-02-14T08:15:24.255Z"
   },
   {
    "duration": 14,
    "start_time": "2023-02-14T08:15:24.260Z"
   },
   {
    "duration": 43,
    "start_time": "2023-02-14T08:15:24.276Z"
   },
   {
    "duration": 18,
    "start_time": "2023-02-14T08:15:24.321Z"
   },
   {
    "duration": 4,
    "start_time": "2023-02-14T08:15:24.340Z"
   },
   {
    "duration": 11,
    "start_time": "2023-02-14T08:15:24.346Z"
   },
   {
    "duration": 7,
    "start_time": "2023-02-14T08:15:24.358Z"
   },
   {
    "duration": 9,
    "start_time": "2023-02-14T08:15:24.366Z"
   },
   {
    "duration": 34,
    "start_time": "2023-02-14T08:15:24.376Z"
   },
   {
    "duration": 13,
    "start_time": "2023-02-14T08:15:24.412Z"
   },
   {
    "duration": 7,
    "start_time": "2023-02-14T08:15:24.427Z"
   },
   {
    "duration": 4,
    "start_time": "2023-02-14T08:15:24.436Z"
   },
   {
    "duration": 31,
    "start_time": "2023-02-14T08:15:24.442Z"
   },
   {
    "duration": 5,
    "start_time": "2023-02-14T08:15:24.475Z"
   },
   {
    "duration": 147,
    "start_time": "2023-02-14T08:15:24.481Z"
   },
   {
    "duration": 2,
    "start_time": "2023-02-14T08:15:24.630Z"
   },
   {
    "duration": 35,
    "start_time": "2023-02-14T08:15:24.633Z"
   },
   {
    "duration": 140,
    "start_time": "2023-02-14T08:15:24.670Z"
   },
   {
    "duration": 2,
    "start_time": "2023-02-14T08:15:24.812Z"
   },
   {
    "duration": 34,
    "start_time": "2023-02-14T08:15:24.816Z"
   },
   {
    "duration": 123,
    "start_time": "2023-02-14T08:15:24.851Z"
   },
   {
    "duration": 2,
    "start_time": "2023-02-14T08:15:24.975Z"
   },
   {
    "duration": 40,
    "start_time": "2023-02-14T08:15:24.979Z"
   },
   {
    "duration": 125,
    "start_time": "2023-02-14T08:15:25.020Z"
   },
   {
    "duration": 3,
    "start_time": "2023-02-14T08:16:12.177Z"
   }
  ],
  "celltoolbar": "Необработанный формат ячейки",
  "colab": {
   "provenance": []
  },
  "kernelspec": {
   "display_name": "Python 3 (ipykernel)",
   "language": "python",
   "name": "python3"
  },
  "language_info": {
   "codemirror_mode": {
    "name": "ipython",
    "version": 3
   },
   "file_extension": ".py",
   "mimetype": "text/x-python",
   "name": "python",
   "nbconvert_exporter": "python",
   "pygments_lexer": "ipython3",
   "version": "3.9.13"
  },
  "toc": {
   "base_numbering": 1,
   "nav_menu": {},
   "number_sections": true,
   "sideBar": true,
   "skip_h1_title": true,
   "title_cell": "Table of Contents",
   "title_sidebar": "Contents",
   "toc_cell": false,
   "toc_position": {},
   "toc_section_display": true,
   "toc_window_display": false
  }
 },
 "nbformat": 4,
 "nbformat_minor": 5
}
